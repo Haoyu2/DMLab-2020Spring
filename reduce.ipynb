{
 "cells": [
  {
   "cell_type": "code",
   "execution_count": 1,
   "metadata": {},
   "outputs": [],
   "source": [
    "import pandas as pd\n",
    "import numpy as np\n",
    "from reduce import *\n",
    "from chengchurch import *\n",
    "\n",
    "class Reduce_old:\n",
    "    def __init__(self, mat):\n",
    "        self.mat = mat\n",
    "        self.row_sorted = np.argsort(np.sum(mat,axis=1))\n",
    "        self.col_sorted = np.argsort(np.sum(mat,axis=0))\n",
    "    def reduce(self,row,col):\n",
    "        rows = np.sort(self.row_sorted[-row:])\n",
    "        cols = np.sort(self.col_sorted[-col:])\n",
    "        print(rows)\n",
    "        print(cols)\n",
    "        return self.mat[rows][:,cols]\n",
    "\n",
    "\n",
    "    \n",
    "class Reduce:\n",
    "    def __init__(self, mat):\n",
    "        self.mat = mat\n",
    "        self._mat = mat\n",
    "\n",
    "    def reduce(self,row,col):\n",
    "        r_num = self.mat.shape[0] - row\n",
    "        c_num = self.mat.shape[1] - col\n",
    "        \n",
    "        mi = min(r_num, c_num)\n",
    "        for i in range(0, mi):\n",
    "            self._reduce_row()\n",
    "            self._reduce_col()\n",
    "        else:\n",
    "            if r_num > mi:\n",
    "                for i in range(0,r_num-mi):\n",
    "                    self._reduce_row()\n",
    "            if c_num > mi:\n",
    "                for i in range(0,c_num-mi):\n",
    "                    self._reduce_col()\n",
    "        return self._mat\n",
    "\n",
    "        \n",
    "    \n",
    "    def _reduce_row(self):\n",
    "        m = np.argmin(np.sum(self._mat,dtype=np.int32, axis = 1))\n",
    "        self._mat = np.delete(self._mat,m,axis=0)\n",
    "        print(f\"\\n{m}th row is deleted\")\n",
    "        print(self._mat)\n",
    "\n",
    "\n",
    "    def _reduce_col(self):\n",
    "        m = np.argmin(np.sum(self._mat,dtype=np.int32, axis = 0))\n",
    "        self._mat = np.delete(self._mat,m,axis=1)\n",
    "        print(f\"\\n{m}th col is deleted\")\n",
    "        print(self._mat)\n",
    "\n",
    "\n",
    "\n",
    "\n"
   ]
  },
  {
   "cell_type": "code",
   "execution_count": 4,
   "metadata": {},
   "outputs": [
    {
     "name": "stdout",
     "output_type": "stream",
     "text": [
      "[[0 0 1 0 0]\n",
      " [0 1 0 0 0]\n",
      " [1 1 0 1 1]\n",
      " [1 1 0 1 0]\n",
      " [1 1 0 1 1]]\n"
     ]
    }
   ],
   "source": [
    "\n",
    "size = (5, 5)\n",
    "mat = np.random.choice([1,0],size)\n",
    "print(mat)\n",
    "\n"
   ]
  },
  {
   "cell_type": "code",
   "execution_count": 5,
   "metadata": {},
   "outputs": [
    {
     "name": "stdout",
     "output_type": "stream",
     "text": [
      "\n",
      "Cheng&Church Bicluster\n",
      "[[1 1 0 1 1]\n",
      " [1 1 0 1 1]]\n"
     ]
    }
   ],
   "source": [
    "\n",
    "print(\"\\nCheng&Church Bicluster\")\n",
    "\n",
    "biclusters = find_biclusters_np(mat, n_of_bicluster=1, msr_threshold=0.03)\n",
    "\n",
    "best_bicluster = sorted(biclusters, key=lambda bicluster: bicluster.msr)[0]\n",
    "print(get_bicluster(mat,best_bicluster))"
   ]
  },
  {
   "cell_type": "code",
   "execution_count": 9,
   "metadata": {},
   "outputs": [
    {
     "name": "stdout",
     "output_type": "stream",
     "text": [
      "[[0 0 1 0 0]\n",
      " [0 1 0 0 0]\n",
      " [1 1 0 1 1]\n",
      " [1 1 0 1 0]\n",
      " [1 1 0 1 1]]\n",
      "\n",
      "0th row is deleted\n",
      "[[0 1 0 0 0]\n",
      " [1 1 0 1 1]\n",
      " [1 1 0 1 0]\n",
      " [1 1 0 1 1]]\n",
      "\n",
      "0th row is deleted\n",
      "[[1 1 0 1 1]\n",
      " [1 1 0 1 0]\n",
      " [1 1 0 1 1]]\n",
      "\n",
      "1th row is deleted\n",
      "[[1 1 0 1 1]\n",
      " [1 1 0 1 1]]\n",
      "[[1 1 0 1 1]\n",
      " [1 1 0 1 1]]\n"
     ]
    }
   ],
   "source": [
    "print(mat)\n",
    "matR = Reduce(mat)\n",
    "print(matR.reduce(2,5))\n"
   ]
  },
  {
   "cell_type": "code",
   "execution_count": null,
   "metadata": {},
   "outputs": [],
   "source": []
  }
 ],
 "metadata": {
  "kernelspec": {
   "display_name": "Python 3",
   "language": "python",
   "name": "python3"
  },
  "language_info": {
   "codemirror_mode": {
    "name": "ipython",
    "version": 3
   },
   "file_extension": ".py",
   "mimetype": "text/x-python",
   "name": "python",
   "nbconvert_exporter": "python",
   "pygments_lexer": "ipython3",
   "version": "3.7.3"
  }
 },
 "nbformat": 4,
 "nbformat_minor": 2
}
