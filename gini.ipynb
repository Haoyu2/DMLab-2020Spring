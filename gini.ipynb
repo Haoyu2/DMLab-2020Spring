{
 "cells": [
  {
   "cell_type": "code",
   "execution_count": 1,
   "metadata": {},
   "outputs": [
    {
     "name": "stdout",
     "output_type": "stream",
     "text": [
      "Columns\n"
     ]
    },
    {
     "data": {
      "text/html": [
       "<style  type=\"text/css\" >\n",
       "    #T_0de9678e_5c02_11ea_b76f_bf7ef357df3crow0_col2 {\n",
       "            background-color:  yellow;\n",
       "        }    #T_0de9678e_5c02_11ea_b76f_bf7ef357df3crow0_col3 {\n",
       "            background-color:  yellow;\n",
       "        }    #T_0de9678e_5c02_11ea_b76f_bf7ef357df3crow1_col2 {\n",
       "            background-color:  yellow;\n",
       "        }    #T_0de9678e_5c02_11ea_b76f_bf7ef357df3crow1_col3 {\n",
       "            background-color:  yellow;\n",
       "        }    #T_0de9678e_5c02_11ea_b76f_bf7ef357df3crow2_col2 {\n",
       "            background-color:  yellow;\n",
       "        }    #T_0de9678e_5c02_11ea_b76f_bf7ef357df3crow2_col3 {\n",
       "            background-color:  yellow;\n",
       "        }    #T_0de9678e_5c02_11ea_b76f_bf7ef357df3crow3_col2 {\n",
       "            background-color:  yellow;\n",
       "        }    #T_0de9678e_5c02_11ea_b76f_bf7ef357df3crow3_col3 {\n",
       "            background-color:  yellow;\n",
       "        }    #T_0de9678e_5c02_11ea_b76f_bf7ef357df3crow4_col2 {\n",
       "            background-color:  yellow;\n",
       "        }    #T_0de9678e_5c02_11ea_b76f_bf7ef357df3crow4_col3 {\n",
       "            background-color:  yellow;\n",
       "        }</style><table id=\"T_0de9678e_5c02_11ea_b76f_bf7ef357df3c\" ><thead>    <tr>        <th class=\"blank level0\" ></th>        <th class=\"col_heading level0 col0\" >0</th>        <th class=\"col_heading level0 col1\" >1</th>        <th class=\"col_heading level0 col2\" >2</th>        <th class=\"col_heading level0 col3\" >3</th>        <th class=\"col_heading level0 col4\" >4</th>    </tr></thead><tbody>\n",
       "                <tr>\n",
       "                        <th id=\"T_0de9678e_5c02_11ea_b76f_bf7ef357df3clevel0_row0\" class=\"row_heading level0 row0\" >0</th>\n",
       "                        <td id=\"T_0de9678e_5c02_11ea_b76f_bf7ef357df3crow0_col0\" class=\"data row0 col0\" >1</td>\n",
       "                        <td id=\"T_0de9678e_5c02_11ea_b76f_bf7ef357df3crow0_col1\" class=\"data row0 col1\" >1</td>\n",
       "                        <td id=\"T_0de9678e_5c02_11ea_b76f_bf7ef357df3crow0_col2\" class=\"data row0 col2\" >0</td>\n",
       "                        <td id=\"T_0de9678e_5c02_11ea_b76f_bf7ef357df3crow0_col3\" class=\"data row0 col3\" >0</td>\n",
       "                        <td id=\"T_0de9678e_5c02_11ea_b76f_bf7ef357df3crow0_col4\" class=\"data row0 col4\" >1</td>\n",
       "            </tr>\n",
       "            <tr>\n",
       "                        <th id=\"T_0de9678e_5c02_11ea_b76f_bf7ef357df3clevel0_row1\" class=\"row_heading level0 row1\" >1</th>\n",
       "                        <td id=\"T_0de9678e_5c02_11ea_b76f_bf7ef357df3crow1_col0\" class=\"data row1 col0\" >1</td>\n",
       "                        <td id=\"T_0de9678e_5c02_11ea_b76f_bf7ef357df3crow1_col1\" class=\"data row1 col1\" >1</td>\n",
       "                        <td id=\"T_0de9678e_5c02_11ea_b76f_bf7ef357df3crow1_col2\" class=\"data row1 col2\" >1</td>\n",
       "                        <td id=\"T_0de9678e_5c02_11ea_b76f_bf7ef357df3crow1_col3\" class=\"data row1 col3\" >1</td>\n",
       "                        <td id=\"T_0de9678e_5c02_11ea_b76f_bf7ef357df3crow1_col4\" class=\"data row1 col4\" >0</td>\n",
       "            </tr>\n",
       "            <tr>\n",
       "                        <th id=\"T_0de9678e_5c02_11ea_b76f_bf7ef357df3clevel0_row2\" class=\"row_heading level0 row2\" >2</th>\n",
       "                        <td id=\"T_0de9678e_5c02_11ea_b76f_bf7ef357df3crow2_col0\" class=\"data row2 col0\" >1</td>\n",
       "                        <td id=\"T_0de9678e_5c02_11ea_b76f_bf7ef357df3crow2_col1\" class=\"data row2 col1\" >0</td>\n",
       "                        <td id=\"T_0de9678e_5c02_11ea_b76f_bf7ef357df3crow2_col2\" class=\"data row2 col2\" >0</td>\n",
       "                        <td id=\"T_0de9678e_5c02_11ea_b76f_bf7ef357df3crow2_col3\" class=\"data row2 col3\" >0</td>\n",
       "                        <td id=\"T_0de9678e_5c02_11ea_b76f_bf7ef357df3crow2_col4\" class=\"data row2 col4\" >0</td>\n",
       "            </tr>\n",
       "            <tr>\n",
       "                        <th id=\"T_0de9678e_5c02_11ea_b76f_bf7ef357df3clevel0_row3\" class=\"row_heading level0 row3\" >3</th>\n",
       "                        <td id=\"T_0de9678e_5c02_11ea_b76f_bf7ef357df3crow3_col0\" class=\"data row3 col0\" >1</td>\n",
       "                        <td id=\"T_0de9678e_5c02_11ea_b76f_bf7ef357df3crow3_col1\" class=\"data row3 col1\" >0</td>\n",
       "                        <td id=\"T_0de9678e_5c02_11ea_b76f_bf7ef357df3crow3_col2\" class=\"data row3 col2\" >1</td>\n",
       "                        <td id=\"T_0de9678e_5c02_11ea_b76f_bf7ef357df3crow3_col3\" class=\"data row3 col3\" >0</td>\n",
       "                        <td id=\"T_0de9678e_5c02_11ea_b76f_bf7ef357df3crow3_col4\" class=\"data row3 col4\" >0</td>\n",
       "            </tr>\n",
       "            <tr>\n",
       "                        <th id=\"T_0de9678e_5c02_11ea_b76f_bf7ef357df3clevel0_row4\" class=\"row_heading level0 row4\" >4</th>\n",
       "                        <td id=\"T_0de9678e_5c02_11ea_b76f_bf7ef357df3crow4_col0\" class=\"data row4 col0\" >0</td>\n",
       "                        <td id=\"T_0de9678e_5c02_11ea_b76f_bf7ef357df3crow4_col1\" class=\"data row4 col1\" >0</td>\n",
       "                        <td id=\"T_0de9678e_5c02_11ea_b76f_bf7ef357df3crow4_col2\" class=\"data row4 col2\" >0</td>\n",
       "                        <td id=\"T_0de9678e_5c02_11ea_b76f_bf7ef357df3crow4_col3\" class=\"data row4 col3\" >1</td>\n",
       "                        <td id=\"T_0de9678e_5c02_11ea_b76f_bf7ef357df3crow4_col4\" class=\"data row4 col4\" >0</td>\n",
       "            </tr>\n",
       "    </tbody></table>"
      ],
      "text/plain": [
       "<pandas.io.formats.style.Styler at 0x7f83ca0c9898>"
      ]
     },
     "metadata": {},
     "output_type": "display_data"
    },
    {
     "name": "stdout",
     "output_type": "stream",
     "text": [
      "[[0 0]\n",
      " [0 1]\n",
      " [1 0]\n",
      " [1 1]] [0 4 3 1] [2 1 1 1]\n",
      "Partitions of columns on row\n"
     ]
    },
    {
     "data": {
      "text/html": [
       "<div>\n",
       "<style scoped>\n",
       "    .dataframe tbody tr th:only-of-type {\n",
       "        vertical-align: middle;\n",
       "    }\n",
       "\n",
       "    .dataframe tbody tr th {\n",
       "        vertical-align: top;\n",
       "    }\n",
       "\n",
       "    .dataframe thead th {\n",
       "        text-align: right;\n",
       "    }\n",
       "</style>\n",
       "<table border=\"1\" class=\"dataframe\">\n",
       "  <thead>\n",
       "    <tr style=\"text-align: right;\">\n",
       "      <th></th>\n",
       "      <th></th>\n",
       "      <th>0</th>\n",
       "      <th>1</th>\n",
       "    </tr>\n",
       "  </thead>\n",
       "  <tbody>\n",
       "    <tr>\n",
       "      <th>2</th>\n",
       "      <th>0</th>\n",
       "      <td>0</td>\n",
       "      <td>0</td>\n",
       "    </tr>\n",
       "    <tr>\n",
       "      <th rowspan=\"3\" valign=\"top\">1</th>\n",
       "      <th>4</th>\n",
       "      <td>0</td>\n",
       "      <td>1</td>\n",
       "    </tr>\n",
       "    <tr>\n",
       "      <th>3</th>\n",
       "      <td>1</td>\n",
       "      <td>0</td>\n",
       "    </tr>\n",
       "    <tr>\n",
       "      <th>1</th>\n",
       "      <td>1</td>\n",
       "      <td>1</td>\n",
       "    </tr>\n",
       "  </tbody>\n",
       "</table>\n",
       "</div>"
      ],
      "text/plain": [
       "     0  1\n",
       "2 0  0  0\n",
       "1 4  0  1\n",
       "  3  1  0\n",
       "  1  1  1"
      ]
     },
     "metadata": {},
     "output_type": "display_data"
    },
    {
     "name": "stdout",
     "output_type": "stream",
     "text": [
      "For row partitions on cols of[2, 3]:\n",
      "\n",
      "                 gini : 0.72\n",
      "                 gini_m : 0.9199999999999999           \n"
     ]
    },
    {
     "data": {
      "text/html": [
       "<style  type=\"text/css\" >\n",
       "    #T_0dec3db0_5c02_11ea_b76f_bf7ef357df3crow2_col0 {\n",
       "            background-color:  yellow;\n",
       "        }    #T_0dec3db0_5c02_11ea_b76f_bf7ef357df3crow2_col1 {\n",
       "            background-color:  yellow;\n",
       "        }    #T_0dec3db0_5c02_11ea_b76f_bf7ef357df3crow2_col2 {\n",
       "            background-color:  yellow;\n",
       "        }    #T_0dec3db0_5c02_11ea_b76f_bf7ef357df3crow2_col3 {\n",
       "            background-color:  yellow;\n",
       "        }    #T_0dec3db0_5c02_11ea_b76f_bf7ef357df3crow2_col4 {\n",
       "            background-color:  yellow;\n",
       "        }    #T_0dec3db0_5c02_11ea_b76f_bf7ef357df3crow3_col0 {\n",
       "            background-color:  yellow;\n",
       "        }    #T_0dec3db0_5c02_11ea_b76f_bf7ef357df3crow3_col1 {\n",
       "            background-color:  yellow;\n",
       "        }    #T_0dec3db0_5c02_11ea_b76f_bf7ef357df3crow3_col2 {\n",
       "            background-color:  yellow;\n",
       "        }    #T_0dec3db0_5c02_11ea_b76f_bf7ef357df3crow3_col3 {\n",
       "            background-color:  yellow;\n",
       "        }    #T_0dec3db0_5c02_11ea_b76f_bf7ef357df3crow3_col4 {\n",
       "            background-color:  yellow;\n",
       "        }</style><table id=\"T_0dec3db0_5c02_11ea_b76f_bf7ef357df3c\" ><thead>    <tr>        <th class=\"blank level0\" ></th>        <th class=\"col_heading level0 col0\" >0</th>        <th class=\"col_heading level0 col1\" >1</th>        <th class=\"col_heading level0 col2\" >2</th>        <th class=\"col_heading level0 col3\" >3</th>        <th class=\"col_heading level0 col4\" >4</th>    </tr></thead><tbody>\n",
       "                <tr>\n",
       "                        <th id=\"T_0dec3db0_5c02_11ea_b76f_bf7ef357df3clevel0_row0\" class=\"row_heading level0 row0\" >0</th>\n",
       "                        <td id=\"T_0dec3db0_5c02_11ea_b76f_bf7ef357df3crow0_col0\" class=\"data row0 col0\" >1</td>\n",
       "                        <td id=\"T_0dec3db0_5c02_11ea_b76f_bf7ef357df3crow0_col1\" class=\"data row0 col1\" >1</td>\n",
       "                        <td id=\"T_0dec3db0_5c02_11ea_b76f_bf7ef357df3crow0_col2\" class=\"data row0 col2\" >0</td>\n",
       "                        <td id=\"T_0dec3db0_5c02_11ea_b76f_bf7ef357df3crow0_col3\" class=\"data row0 col3\" >0</td>\n",
       "                        <td id=\"T_0dec3db0_5c02_11ea_b76f_bf7ef357df3crow0_col4\" class=\"data row0 col4\" >1</td>\n",
       "            </tr>\n",
       "            <tr>\n",
       "                        <th id=\"T_0dec3db0_5c02_11ea_b76f_bf7ef357df3clevel0_row1\" class=\"row_heading level0 row1\" >1</th>\n",
       "                        <td id=\"T_0dec3db0_5c02_11ea_b76f_bf7ef357df3crow1_col0\" class=\"data row1 col0\" >1</td>\n",
       "                        <td id=\"T_0dec3db0_5c02_11ea_b76f_bf7ef357df3crow1_col1\" class=\"data row1 col1\" >1</td>\n",
       "                        <td id=\"T_0dec3db0_5c02_11ea_b76f_bf7ef357df3crow1_col2\" class=\"data row1 col2\" >1</td>\n",
       "                        <td id=\"T_0dec3db0_5c02_11ea_b76f_bf7ef357df3crow1_col3\" class=\"data row1 col3\" >1</td>\n",
       "                        <td id=\"T_0dec3db0_5c02_11ea_b76f_bf7ef357df3crow1_col4\" class=\"data row1 col4\" >0</td>\n",
       "            </tr>\n",
       "            <tr>\n",
       "                        <th id=\"T_0dec3db0_5c02_11ea_b76f_bf7ef357df3clevel0_row2\" class=\"row_heading level0 row2\" >2</th>\n",
       "                        <td id=\"T_0dec3db0_5c02_11ea_b76f_bf7ef357df3crow2_col0\" class=\"data row2 col0\" >1</td>\n",
       "                        <td id=\"T_0dec3db0_5c02_11ea_b76f_bf7ef357df3crow2_col1\" class=\"data row2 col1\" >0</td>\n",
       "                        <td id=\"T_0dec3db0_5c02_11ea_b76f_bf7ef357df3crow2_col2\" class=\"data row2 col2\" >0</td>\n",
       "                        <td id=\"T_0dec3db0_5c02_11ea_b76f_bf7ef357df3crow2_col3\" class=\"data row2 col3\" >0</td>\n",
       "                        <td id=\"T_0dec3db0_5c02_11ea_b76f_bf7ef357df3crow2_col4\" class=\"data row2 col4\" >0</td>\n",
       "            </tr>\n",
       "            <tr>\n",
       "                        <th id=\"T_0dec3db0_5c02_11ea_b76f_bf7ef357df3clevel0_row3\" class=\"row_heading level0 row3\" >3</th>\n",
       "                        <td id=\"T_0dec3db0_5c02_11ea_b76f_bf7ef357df3crow3_col0\" class=\"data row3 col0\" >1</td>\n",
       "                        <td id=\"T_0dec3db0_5c02_11ea_b76f_bf7ef357df3crow3_col1\" class=\"data row3 col1\" >0</td>\n",
       "                        <td id=\"T_0dec3db0_5c02_11ea_b76f_bf7ef357df3crow3_col2\" class=\"data row3 col2\" >1</td>\n",
       "                        <td id=\"T_0dec3db0_5c02_11ea_b76f_bf7ef357df3crow3_col3\" class=\"data row3 col3\" >0</td>\n",
       "                        <td id=\"T_0dec3db0_5c02_11ea_b76f_bf7ef357df3crow3_col4\" class=\"data row3 col4\" >0</td>\n",
       "            </tr>\n",
       "            <tr>\n",
       "                        <th id=\"T_0dec3db0_5c02_11ea_b76f_bf7ef357df3clevel0_row4\" class=\"row_heading level0 row4\" >4</th>\n",
       "                        <td id=\"T_0dec3db0_5c02_11ea_b76f_bf7ef357df3crow4_col0\" class=\"data row4 col0\" >0</td>\n",
       "                        <td id=\"T_0dec3db0_5c02_11ea_b76f_bf7ef357df3crow4_col1\" class=\"data row4 col1\" >0</td>\n",
       "                        <td id=\"T_0dec3db0_5c02_11ea_b76f_bf7ef357df3crow4_col2\" class=\"data row4 col2\" >0</td>\n",
       "                        <td id=\"T_0dec3db0_5c02_11ea_b76f_bf7ef357df3crow4_col3\" class=\"data row4 col3\" >1</td>\n",
       "                        <td id=\"T_0dec3db0_5c02_11ea_b76f_bf7ef357df3crow4_col4\" class=\"data row4 col4\" >0</td>\n",
       "            </tr>\n",
       "    </tbody></table>"
      ],
      "text/plain": [
       "<pandas.io.formats.style.Styler at 0x7f83c893df98>"
      ]
     },
     "metadata": {},
     "output_type": "display_data"
    },
    {
     "name": "stdout",
     "output_type": "stream",
     "text": [
      "Partitions of rows on columns\n",
      "[[0 0 1]\n",
      " [0 1 1]] [1 2 0] [3 1 1]\n"
     ]
    },
    {
     "data": {
      "text/html": [
       "<div>\n",
       "<style scoped>\n",
       "    .dataframe tbody tr th:only-of-type {\n",
       "        vertical-align: middle;\n",
       "    }\n",
       "\n",
       "    .dataframe tbody tr th {\n",
       "        vertical-align: top;\n",
       "    }\n",
       "\n",
       "    .dataframe thead tr th {\n",
       "        text-align: left;\n",
       "    }\n",
       "</style>\n",
       "<table border=\"1\" class=\"dataframe\">\n",
       "  <thead>\n",
       "    <tr>\n",
       "      <th></th>\n",
       "      <th>3</th>\n",
       "      <th colspan=\"2\" halign=\"left\">1</th>\n",
       "    </tr>\n",
       "    <tr>\n",
       "      <th></th>\n",
       "      <th>1</th>\n",
       "      <th>2</th>\n",
       "      <th>0</th>\n",
       "    </tr>\n",
       "  </thead>\n",
       "  <tbody>\n",
       "    <tr>\n",
       "      <th>0</th>\n",
       "      <td>0</td>\n",
       "      <td>0</td>\n",
       "      <td>1</td>\n",
       "    </tr>\n",
       "    <tr>\n",
       "      <th>1</th>\n",
       "      <td>0</td>\n",
       "      <td>1</td>\n",
       "      <td>1</td>\n",
       "    </tr>\n",
       "  </tbody>\n",
       "</table>\n",
       "</div>"
      ],
      "text/plain": [
       "   3  1   \n",
       "   1  2  0\n",
       "0  0  0  1\n",
       "1  0  1  1"
      ]
     },
     "metadata": {},
     "output_type": "display_data"
    },
    {
     "name": "stdout",
     "output_type": "stream",
     "text": [
      "For column partitions on cols of[2, 3]:\n",
      "\n",
      "                 gini : 0.5599999999999999\n",
      "                 gini_m : 0.94           \n",
      "bicluster gini is: 0.9952\n"
     ]
    }
   ],
   "source": [
    "from gini import *\n",
    "size = (5, 5)\n",
    "mat = np.random.choice([1,0],size)\n",
    "\n",
    "orbi = OrBi(mat)\n",
    "print(f'bicluster gini is: {orbi.gini_mu([2,3],[2,3])}')"
   ]
  }
 ],
 "metadata": {
  "kernelspec": {
   "display_name": "Python 3",
   "language": "python",
   "name": "python3"
  },
  "language_info": {
   "codemirror_mode": {
    "name": "ipython",
    "version": 3
   },
   "file_extension": ".py",
   "mimetype": "text/x-python",
   "name": "python",
   "nbconvert_exporter": "python",
   "pygments_lexer": "ipython3",
   "version": "3.7.3"
  }
 },
 "nbformat": 4,
 "nbformat_minor": 2
}
