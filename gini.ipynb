{
 "cells": [
  {
   "cell_type": "code",
   "execution_count": 3,
   "metadata": {},
   "outputs": [
    {
     "name": "stdout",
     "output_type": "stream",
     "text": [
      "Columns\n"
     ]
    },
    {
     "data": {
      "text/html": [
       "<style  type=\"text/css\" >\n",
       "    #T_0345e574_5c01_11ea_8937_0359d5c35132row0_col2 {\n",
       "            background-color:  yellow;\n",
       "        }    #T_0345e574_5c01_11ea_8937_0359d5c35132row0_col3 {\n",
       "            background-color:  yellow;\n",
       "        }    #T_0345e574_5c01_11ea_8937_0359d5c35132row1_col2 {\n",
       "            background-color:  yellow;\n",
       "        }    #T_0345e574_5c01_11ea_8937_0359d5c35132row1_col3 {\n",
       "            background-color:  yellow;\n",
       "        }    #T_0345e574_5c01_11ea_8937_0359d5c35132row2_col2 {\n",
       "            background-color:  yellow;\n",
       "        }    #T_0345e574_5c01_11ea_8937_0359d5c35132row2_col3 {\n",
       "            background-color:  yellow;\n",
       "        }    #T_0345e574_5c01_11ea_8937_0359d5c35132row3_col2 {\n",
       "            background-color:  yellow;\n",
       "        }    #T_0345e574_5c01_11ea_8937_0359d5c35132row3_col3 {\n",
       "            background-color:  yellow;\n",
       "        }    #T_0345e574_5c01_11ea_8937_0359d5c35132row4_col2 {\n",
       "            background-color:  yellow;\n",
       "        }    #T_0345e574_5c01_11ea_8937_0359d5c35132row4_col3 {\n",
       "            background-color:  yellow;\n",
       "        }</style><table id=\"T_0345e574_5c01_11ea_8937_0359d5c35132\" ><thead>    <tr>        <th class=\"blank level0\" ></th>        <th class=\"col_heading level0 col0\" >0</th>        <th class=\"col_heading level0 col1\" >1</th>        <th class=\"col_heading level0 col2\" >2</th>        <th class=\"col_heading level0 col3\" >3</th>        <th class=\"col_heading level0 col4\" >4</th>    </tr></thead><tbody>\n",
       "                <tr>\n",
       "                        <th id=\"T_0345e574_5c01_11ea_8937_0359d5c35132level0_row0\" class=\"row_heading level0 row0\" >0</th>\n",
       "                        <td id=\"T_0345e574_5c01_11ea_8937_0359d5c35132row0_col0\" class=\"data row0 col0\" >0</td>\n",
       "                        <td id=\"T_0345e574_5c01_11ea_8937_0359d5c35132row0_col1\" class=\"data row0 col1\" >1</td>\n",
       "                        <td id=\"T_0345e574_5c01_11ea_8937_0359d5c35132row0_col2\" class=\"data row0 col2\" >0</td>\n",
       "                        <td id=\"T_0345e574_5c01_11ea_8937_0359d5c35132row0_col3\" class=\"data row0 col3\" >0</td>\n",
       "                        <td id=\"T_0345e574_5c01_11ea_8937_0359d5c35132row0_col4\" class=\"data row0 col4\" >1</td>\n",
       "            </tr>\n",
       "            <tr>\n",
       "                        <th id=\"T_0345e574_5c01_11ea_8937_0359d5c35132level0_row1\" class=\"row_heading level0 row1\" >1</th>\n",
       "                        <td id=\"T_0345e574_5c01_11ea_8937_0359d5c35132row1_col0\" class=\"data row1 col0\" >0</td>\n",
       "                        <td id=\"T_0345e574_5c01_11ea_8937_0359d5c35132row1_col1\" class=\"data row1 col1\" >0</td>\n",
       "                        <td id=\"T_0345e574_5c01_11ea_8937_0359d5c35132row1_col2\" class=\"data row1 col2\" >0</td>\n",
       "                        <td id=\"T_0345e574_5c01_11ea_8937_0359d5c35132row1_col3\" class=\"data row1 col3\" >1</td>\n",
       "                        <td id=\"T_0345e574_5c01_11ea_8937_0359d5c35132row1_col4\" class=\"data row1 col4\" >1</td>\n",
       "            </tr>\n",
       "            <tr>\n",
       "                        <th id=\"T_0345e574_5c01_11ea_8937_0359d5c35132level0_row2\" class=\"row_heading level0 row2\" >2</th>\n",
       "                        <td id=\"T_0345e574_5c01_11ea_8937_0359d5c35132row2_col0\" class=\"data row2 col0\" >0</td>\n",
       "                        <td id=\"T_0345e574_5c01_11ea_8937_0359d5c35132row2_col1\" class=\"data row2 col1\" >1</td>\n",
       "                        <td id=\"T_0345e574_5c01_11ea_8937_0359d5c35132row2_col2\" class=\"data row2 col2\" >0</td>\n",
       "                        <td id=\"T_0345e574_5c01_11ea_8937_0359d5c35132row2_col3\" class=\"data row2 col3\" >0</td>\n",
       "                        <td id=\"T_0345e574_5c01_11ea_8937_0359d5c35132row2_col4\" class=\"data row2 col4\" >0</td>\n",
       "            </tr>\n",
       "            <tr>\n",
       "                        <th id=\"T_0345e574_5c01_11ea_8937_0359d5c35132level0_row3\" class=\"row_heading level0 row3\" >3</th>\n",
       "                        <td id=\"T_0345e574_5c01_11ea_8937_0359d5c35132row3_col0\" class=\"data row3 col0\" >1</td>\n",
       "                        <td id=\"T_0345e574_5c01_11ea_8937_0359d5c35132row3_col1\" class=\"data row3 col1\" >1</td>\n",
       "                        <td id=\"T_0345e574_5c01_11ea_8937_0359d5c35132row3_col2\" class=\"data row3 col2\" >1</td>\n",
       "                        <td id=\"T_0345e574_5c01_11ea_8937_0359d5c35132row3_col3\" class=\"data row3 col3\" >0</td>\n",
       "                        <td id=\"T_0345e574_5c01_11ea_8937_0359d5c35132row3_col4\" class=\"data row3 col4\" >1</td>\n",
       "            </tr>\n",
       "            <tr>\n",
       "                        <th id=\"T_0345e574_5c01_11ea_8937_0359d5c35132level0_row4\" class=\"row_heading level0 row4\" >4</th>\n",
       "                        <td id=\"T_0345e574_5c01_11ea_8937_0359d5c35132row4_col0\" class=\"data row4 col0\" >1</td>\n",
       "                        <td id=\"T_0345e574_5c01_11ea_8937_0359d5c35132row4_col1\" class=\"data row4 col1\" >0</td>\n",
       "                        <td id=\"T_0345e574_5c01_11ea_8937_0359d5c35132row4_col2\" class=\"data row4 col2\" >0</td>\n",
       "                        <td id=\"T_0345e574_5c01_11ea_8937_0359d5c35132row4_col3\" class=\"data row4 col3\" >1</td>\n",
       "                        <td id=\"T_0345e574_5c01_11ea_8937_0359d5c35132row4_col4\" class=\"data row4 col4\" >1</td>\n",
       "            </tr>\n",
       "    </tbody></table>"
      ],
      "text/plain": [
       "<pandas.io.formats.style.Styler at 0x7f2f7f7813c8>"
      ]
     },
     "metadata": {},
     "output_type": "display_data"
    },
    {
     "name": "stdout",
     "output_type": "stream",
     "text": [
      "Partitions of columns on row\n"
     ]
    },
    {
     "data": {
      "text/html": [
       "<div>\n",
       "<style scoped>\n",
       "    .dataframe tbody tr th:only-of-type {\n",
       "        vertical-align: middle;\n",
       "    }\n",
       "\n",
       "    .dataframe tbody tr th {\n",
       "        vertical-align: top;\n",
       "    }\n",
       "\n",
       "    .dataframe thead th {\n",
       "        text-align: right;\n",
       "    }\n",
       "</style>\n",
       "<table border=\"1\" class=\"dataframe\">\n",
       "  <thead>\n",
       "    <tr style=\"text-align: right;\">\n",
       "      <th></th>\n",
       "      <th></th>\n",
       "      <th>0</th>\n",
       "      <th>1</th>\n",
       "    </tr>\n",
       "  </thead>\n",
       "  <tbody>\n",
       "    <tr>\n",
       "      <th rowspan=\"2\" valign=\"top\">2</th>\n",
       "      <th>0</th>\n",
       "      <td>0</td>\n",
       "      <td>0</td>\n",
       "    </tr>\n",
       "    <tr>\n",
       "      <th>1</th>\n",
       "      <td>0</td>\n",
       "      <td>1</td>\n",
       "    </tr>\n",
       "    <tr>\n",
       "      <th>1</th>\n",
       "      <th>3</th>\n",
       "      <td>1</td>\n",
       "      <td>0</td>\n",
       "    </tr>\n",
       "  </tbody>\n",
       "</table>\n",
       "</div>"
      ],
      "text/plain": [
       "     0  1\n",
       "2 0  0  0\n",
       "  1  0  1\n",
       "1 3  1  0"
      ]
     },
     "metadata": {},
     "output_type": "display_data"
    },
    {
     "name": "stdout",
     "output_type": "stream",
     "text": [
      "For row partitions on cols of[2, 3]:\n",
      "\n",
      "                 gini : 0.6399999999999999\n",
      "                 gini_m : 0.9           \n"
     ]
    },
    {
     "data": {
      "text/html": [
       "<style  type=\"text/css\" >\n",
       "    #T_03493148_5c01_11ea_8937_0359d5c35132row2_col0 {\n",
       "            background-color:  yellow;\n",
       "        }    #T_03493148_5c01_11ea_8937_0359d5c35132row2_col1 {\n",
       "            background-color:  yellow;\n",
       "        }    #T_03493148_5c01_11ea_8937_0359d5c35132row2_col2 {\n",
       "            background-color:  yellow;\n",
       "        }    #T_03493148_5c01_11ea_8937_0359d5c35132row2_col3 {\n",
       "            background-color:  yellow;\n",
       "        }    #T_03493148_5c01_11ea_8937_0359d5c35132row2_col4 {\n",
       "            background-color:  yellow;\n",
       "        }    #T_03493148_5c01_11ea_8937_0359d5c35132row3_col0 {\n",
       "            background-color:  yellow;\n",
       "        }    #T_03493148_5c01_11ea_8937_0359d5c35132row3_col1 {\n",
       "            background-color:  yellow;\n",
       "        }    #T_03493148_5c01_11ea_8937_0359d5c35132row3_col2 {\n",
       "            background-color:  yellow;\n",
       "        }    #T_03493148_5c01_11ea_8937_0359d5c35132row3_col3 {\n",
       "            background-color:  yellow;\n",
       "        }    #T_03493148_5c01_11ea_8937_0359d5c35132row3_col4 {\n",
       "            background-color:  yellow;\n",
       "        }</style><table id=\"T_03493148_5c01_11ea_8937_0359d5c35132\" ><thead>    <tr>        <th class=\"blank level0\" ></th>        <th class=\"col_heading level0 col0\" >0</th>        <th class=\"col_heading level0 col1\" >1</th>        <th class=\"col_heading level0 col2\" >2</th>        <th class=\"col_heading level0 col3\" >3</th>        <th class=\"col_heading level0 col4\" >4</th>    </tr></thead><tbody>\n",
       "                <tr>\n",
       "                        <th id=\"T_03493148_5c01_11ea_8937_0359d5c35132level0_row0\" class=\"row_heading level0 row0\" >0</th>\n",
       "                        <td id=\"T_03493148_5c01_11ea_8937_0359d5c35132row0_col0\" class=\"data row0 col0\" >0</td>\n",
       "                        <td id=\"T_03493148_5c01_11ea_8937_0359d5c35132row0_col1\" class=\"data row0 col1\" >1</td>\n",
       "                        <td id=\"T_03493148_5c01_11ea_8937_0359d5c35132row0_col2\" class=\"data row0 col2\" >0</td>\n",
       "                        <td id=\"T_03493148_5c01_11ea_8937_0359d5c35132row0_col3\" class=\"data row0 col3\" >0</td>\n",
       "                        <td id=\"T_03493148_5c01_11ea_8937_0359d5c35132row0_col4\" class=\"data row0 col4\" >1</td>\n",
       "            </tr>\n",
       "            <tr>\n",
       "                        <th id=\"T_03493148_5c01_11ea_8937_0359d5c35132level0_row1\" class=\"row_heading level0 row1\" >1</th>\n",
       "                        <td id=\"T_03493148_5c01_11ea_8937_0359d5c35132row1_col0\" class=\"data row1 col0\" >0</td>\n",
       "                        <td id=\"T_03493148_5c01_11ea_8937_0359d5c35132row1_col1\" class=\"data row1 col1\" >0</td>\n",
       "                        <td id=\"T_03493148_5c01_11ea_8937_0359d5c35132row1_col2\" class=\"data row1 col2\" >0</td>\n",
       "                        <td id=\"T_03493148_5c01_11ea_8937_0359d5c35132row1_col3\" class=\"data row1 col3\" >1</td>\n",
       "                        <td id=\"T_03493148_5c01_11ea_8937_0359d5c35132row1_col4\" class=\"data row1 col4\" >1</td>\n",
       "            </tr>\n",
       "            <tr>\n",
       "                        <th id=\"T_03493148_5c01_11ea_8937_0359d5c35132level0_row2\" class=\"row_heading level0 row2\" >2</th>\n",
       "                        <td id=\"T_03493148_5c01_11ea_8937_0359d5c35132row2_col0\" class=\"data row2 col0\" >0</td>\n",
       "                        <td id=\"T_03493148_5c01_11ea_8937_0359d5c35132row2_col1\" class=\"data row2 col1\" >1</td>\n",
       "                        <td id=\"T_03493148_5c01_11ea_8937_0359d5c35132row2_col2\" class=\"data row2 col2\" >0</td>\n",
       "                        <td id=\"T_03493148_5c01_11ea_8937_0359d5c35132row2_col3\" class=\"data row2 col3\" >0</td>\n",
       "                        <td id=\"T_03493148_5c01_11ea_8937_0359d5c35132row2_col4\" class=\"data row2 col4\" >0</td>\n",
       "            </tr>\n",
       "            <tr>\n",
       "                        <th id=\"T_03493148_5c01_11ea_8937_0359d5c35132level0_row3\" class=\"row_heading level0 row3\" >3</th>\n",
       "                        <td id=\"T_03493148_5c01_11ea_8937_0359d5c35132row3_col0\" class=\"data row3 col0\" >1</td>\n",
       "                        <td id=\"T_03493148_5c01_11ea_8937_0359d5c35132row3_col1\" class=\"data row3 col1\" >1</td>\n",
       "                        <td id=\"T_03493148_5c01_11ea_8937_0359d5c35132row3_col2\" class=\"data row3 col2\" >1</td>\n",
       "                        <td id=\"T_03493148_5c01_11ea_8937_0359d5c35132row3_col3\" class=\"data row3 col3\" >0</td>\n",
       "                        <td id=\"T_03493148_5c01_11ea_8937_0359d5c35132row3_col4\" class=\"data row3 col4\" >1</td>\n",
       "            </tr>\n",
       "            <tr>\n",
       "                        <th id=\"T_03493148_5c01_11ea_8937_0359d5c35132level0_row4\" class=\"row_heading level0 row4\" >4</th>\n",
       "                        <td id=\"T_03493148_5c01_11ea_8937_0359d5c35132row4_col0\" class=\"data row4 col0\" >1</td>\n",
       "                        <td id=\"T_03493148_5c01_11ea_8937_0359d5c35132row4_col1\" class=\"data row4 col1\" >0</td>\n",
       "                        <td id=\"T_03493148_5c01_11ea_8937_0359d5c35132row4_col2\" class=\"data row4 col2\" >0</td>\n",
       "                        <td id=\"T_03493148_5c01_11ea_8937_0359d5c35132row4_col3\" class=\"data row4 col3\" >1</td>\n",
       "                        <td id=\"T_03493148_5c01_11ea_8937_0359d5c35132row4_col4\" class=\"data row4 col4\" >1</td>\n",
       "            </tr>\n",
       "    </tbody></table>"
      ],
      "text/plain": [
       "<pandas.io.formats.style.Styler at 0x7f2facb215f8>"
      ]
     },
     "metadata": {},
     "output_type": "display_data"
    },
    {
     "name": "stdout",
     "output_type": "stream",
     "text": [
      "Partitions of rows on columns\n"
     ]
    },
    {
     "data": {
      "text/html": [
       "<div>\n",
       "<style scoped>\n",
       "    .dataframe tbody tr th:only-of-type {\n",
       "        vertical-align: middle;\n",
       "    }\n",
       "\n",
       "    .dataframe tbody tr th {\n",
       "        vertical-align: top;\n",
       "    }\n",
       "\n",
       "    .dataframe thead tr th {\n",
       "        text-align: left;\n",
       "    }\n",
       "</style>\n",
       "<table border=\"1\" class=\"dataframe\">\n",
       "  <thead>\n",
       "    <tr>\n",
       "      <th></th>\n",
       "      <th>1</th>\n",
       "      <th>3</th>\n",
       "      <th>1</th>\n",
       "    </tr>\n",
       "    <tr>\n",
       "      <th></th>\n",
       "      <th>3</th>\n",
       "      <th>0</th>\n",
       "      <th>1</th>\n",
       "    </tr>\n",
       "  </thead>\n",
       "  <tbody>\n",
       "    <tr>\n",
       "      <th>0</th>\n",
       "      <td>0</td>\n",
       "      <td>0</td>\n",
       "      <td>1</td>\n",
       "    </tr>\n",
       "    <tr>\n",
       "      <th>1</th>\n",
       "      <td>0</td>\n",
       "      <td>1</td>\n",
       "      <td>1</td>\n",
       "    </tr>\n",
       "  </tbody>\n",
       "</table>\n",
       "</div>"
      ],
      "text/plain": [
       "   1  3  1\n",
       "   3  0  1\n",
       "0  0  0  1\n",
       "1  0  1  1"
      ]
     },
     "metadata": {},
     "output_type": "display_data"
    },
    {
     "name": "stdout",
     "output_type": "stream",
     "text": [
      "For column partitions on cols of[2, 3]:\n",
      "\n",
      "                 gini : 0.5599999999999999\n",
      "                 gini_m : 0.78           \n"
     ]
    },
    {
     "ename": "TypeError",
     "evalue": "can only concatenate str (not \"numpy.float64\") to str",
     "output_type": "error",
     "traceback": [
      "\u001b[0;31m---------------------------------------------------------------------------\u001b[0m",
      "\u001b[0;31mTypeError\u001b[0m                                 Traceback (most recent call last)",
      "\u001b[0;32m<ipython-input-3-c73be565ca8b>\u001b[0m in \u001b[0;36m<module>\u001b[0;34m\u001b[0m\n\u001b[1;32m      4\u001b[0m \u001b[0;34m\u001b[0m\u001b[0m\n\u001b[1;32m      5\u001b[0m \u001b[0morbi\u001b[0m \u001b[0;34m=\u001b[0m \u001b[0mOrBi\u001b[0m\u001b[0;34m(\u001b[0m\u001b[0mmat\u001b[0m\u001b[0;34m)\u001b[0m\u001b[0;34m\u001b[0m\u001b[0;34m\u001b[0m\u001b[0m\n\u001b[0;32m----> 6\u001b[0;31m \u001b[0mprint\u001b[0m\u001b[0;34m(\u001b[0m\u001b[0;34m'bicluster gini is: '\u001b[0m\u001b[0;34m+\u001b[0m \u001b[0morbi\u001b[0m\u001b[0;34m.\u001b[0m\u001b[0mgini_mu\u001b[0m\u001b[0;34m(\u001b[0m\u001b[0;34m[\u001b[0m\u001b[0;36m2\u001b[0m\u001b[0;34m,\u001b[0m\u001b[0;36m3\u001b[0m\u001b[0;34m]\u001b[0m\u001b[0;34m,\u001b[0m\u001b[0;34m[\u001b[0m\u001b[0;36m2\u001b[0m\u001b[0;34m,\u001b[0m\u001b[0;36m3\u001b[0m\u001b[0;34m]\u001b[0m\u001b[0;34m)\u001b[0m\u001b[0;34m)\u001b[0m\u001b[0;34m\u001b[0m\u001b[0;34m\u001b[0m\u001b[0m\n\u001b[0m",
      "\u001b[0;31mTypeError\u001b[0m: can only concatenate str (not \"numpy.float64\") to str"
     ]
    }
   ],
   "source": [
    "from gini import *\n",
    "size = (5, 5)\n",
    "mat = np.random.choice([1,0],size)\n",
    "\n",
    "orbi = OrBi(mat)\n",
    "print('bicluster gini is: '+ orbi.gini_mu([2,3],[2,3]))"
   ]
  },
  {
   "cell_type": "code",
   "execution_count": null,
   "metadata": {},
   "outputs": [],
   "source": []
  }
 ],
 "metadata": {
  "kernelspec": {
   "display_name": "Python 3",
   "language": "python",
   "name": "python3"
  },
  "language_info": {
   "codemirror_mode": {
    "name": "ipython",
    "version": 3
   },
   "file_extension": ".py",
   "mimetype": "text/x-python",
   "name": "python",
   "nbconvert_exporter": "python",
   "pygments_lexer": "ipython3",
   "version": "3.7.3"
  }
 },
 "nbformat": 4,
 "nbformat_minor": 2
}
