{
 "cells": [
  {
   "cell_type": "code",
   "execution_count": 5,
   "metadata": {},
   "outputs": [],
   "source": [
    "import pandas as pd\n",
    "import numpy as np\n",
    "from IPython.display import display, HTML\n",
    "\n",
    "\n",
    "\n",
    "class OrBi():\n",
    "    def __init__(self, mat):\n",
    "        self.mat = mat\n",
    "        self.df = pd.DataFrame(mat)  \n",
    "        \n",
    "        \n",
    "    def gini_mu(self, rows,cols):\n",
    "        _, r_mu = self.r_par(cols)\n",
    "        _, c_mu = self.c_par(rows)\n",
    "        return r_mu+c_mu-r_mu*c_mu\n",
    "        \n",
    "        \n",
    "    def r_par(self,cols):    \n",
    "#         display(self.df.loc[:,cols])\n",
    "        display(self.df.style.applymap(self._bg_map,\n",
    "                               subset=pd.IndexSlice[:,cols]))\n",
    "        \n",
    "        mat_pat,index, counts = np.unique(self.mat[:,cols],axis=0,return_index=1, return_counts=1)\n",
    "#         print(mat_pat,index,counts)\n",
    "\n",
    "        display(pd.DataFrame(mat_pat, index=[counts,index]))\n",
    "        print(np.power(2,np.sum(mat_pat,axis=1)))\n",
    "\n",
    "        \n",
    "\n",
    "        \n",
    "        gini = 1 - np.sum(np.square(counts/np.sum(counts)))        \n",
    "        gini_m = 1 - np.dot(np.square(counts/np.sum(counts)), \n",
    "                            np.power(2,np.sum(mat_pat,axis=1)))\n",
    "        print(f'For row partitions on cols of{cols}:\\n\\n \\\n",
    "                gini : {gini}\\n   \\\n",
    "              gini_m : {gini_m}           ')\n",
    "        return gini, gini_m\n",
    "        \n",
    "        \n",
    "        \n",
    "    def c_par(self,rows):    \n",
    "#         display(self.df.loc[:,rows])\n",
    "        display(self.df.style.applymap(self._bg_map,\n",
    "                               subset=pd.IndexSlice[rows,:]))\n",
    "        \n",
    "        \n",
    "        mat_pat,index, counts = np.unique(self.mat[rows,:],axis=1,return_index=1, return_counts=1)\n",
    "        \n",
    "\n",
    "        print(mat_pat,index,counts)\n",
    "        display(pd.DataFrame(mat_pat, columns=[counts,index]))\n",
    "        print(np.power(2,np.sum(mat_pat,axis=0)))\n",
    "        \n",
    "        gini = 1 - np.sum(np.square(counts/np.sum(counts)))        \n",
    "        gini_m = 1 - np.dot(np.square(counts/np.sum(counts)), \n",
    "                            np.power(2, np.sum(mat_pat,axis=0)))\n",
    "        print(f'For column partitions on cols of{rows}:\\n\\n \\\n",
    "                gini : {gini}\\n   \\\n",
    "              gini_m : {gini_m}           ')\n",
    "        return gini, gini_m\n",
    "        \n",
    "    def proj(self, row, cols):\n",
    "        \n",
    "        print(f'Projections of columns {cols} on row {row}')\n",
    "        return self.df.style.applymap(self._bg_map,\n",
    "                               subset=pd.IndexSlice[row,cols])\n",
    "    def rstr(self, col, rows):\n",
    "        \n",
    "        print(f'Restriction of rows {rows} on column {col}')        \n",
    "        return self.df.style.applymap(self._bg_map,\n",
    "                               subset=pd.IndexSlice[rows,col])\n",
    "    \n",
    "        \n",
    "    def _bg_map(self,val, color='yellow'):\n",
    "        return f'background-color: {color}'"
   ]
  },
  {
   "cell_type": "code",
   "execution_count": 6,
   "metadata": {},
   "outputs": [
    {
     "data": {
      "text/html": [
       "<style  type=\"text/css\" >\n",
       "    #T_e346089c_5c0c_11ea_8963_3df42264cf28row0_col2 {\n",
       "            background-color:  yellow;\n",
       "        }    #T_e346089c_5c0c_11ea_8963_3df42264cf28row0_col3 {\n",
       "            background-color:  yellow;\n",
       "        }    #T_e346089c_5c0c_11ea_8963_3df42264cf28row1_col2 {\n",
       "            background-color:  yellow;\n",
       "        }    #T_e346089c_5c0c_11ea_8963_3df42264cf28row1_col3 {\n",
       "            background-color:  yellow;\n",
       "        }    #T_e346089c_5c0c_11ea_8963_3df42264cf28row2_col2 {\n",
       "            background-color:  yellow;\n",
       "        }    #T_e346089c_5c0c_11ea_8963_3df42264cf28row2_col3 {\n",
       "            background-color:  yellow;\n",
       "        }    #T_e346089c_5c0c_11ea_8963_3df42264cf28row3_col2 {\n",
       "            background-color:  yellow;\n",
       "        }    #T_e346089c_5c0c_11ea_8963_3df42264cf28row3_col3 {\n",
       "            background-color:  yellow;\n",
       "        }    #T_e346089c_5c0c_11ea_8963_3df42264cf28row4_col2 {\n",
       "            background-color:  yellow;\n",
       "        }    #T_e346089c_5c0c_11ea_8963_3df42264cf28row4_col3 {\n",
       "            background-color:  yellow;\n",
       "        }</style><table id=\"T_e346089c_5c0c_11ea_8963_3df42264cf28\" ><thead>    <tr>        <th class=\"blank level0\" ></th>        <th class=\"col_heading level0 col0\" >0</th>        <th class=\"col_heading level0 col1\" >1</th>        <th class=\"col_heading level0 col2\" >2</th>        <th class=\"col_heading level0 col3\" >3</th>        <th class=\"col_heading level0 col4\" >4</th>    </tr></thead><tbody>\n",
       "                <tr>\n",
       "                        <th id=\"T_e346089c_5c0c_11ea_8963_3df42264cf28level0_row0\" class=\"row_heading level0 row0\" >0</th>\n",
       "                        <td id=\"T_e346089c_5c0c_11ea_8963_3df42264cf28row0_col0\" class=\"data row0 col0\" >0</td>\n",
       "                        <td id=\"T_e346089c_5c0c_11ea_8963_3df42264cf28row0_col1\" class=\"data row0 col1\" >0</td>\n",
       "                        <td id=\"T_e346089c_5c0c_11ea_8963_3df42264cf28row0_col2\" class=\"data row0 col2\" >1</td>\n",
       "                        <td id=\"T_e346089c_5c0c_11ea_8963_3df42264cf28row0_col3\" class=\"data row0 col3\" >1</td>\n",
       "                        <td id=\"T_e346089c_5c0c_11ea_8963_3df42264cf28row0_col4\" class=\"data row0 col4\" >1</td>\n",
       "            </tr>\n",
       "            <tr>\n",
       "                        <th id=\"T_e346089c_5c0c_11ea_8963_3df42264cf28level0_row1\" class=\"row_heading level0 row1\" >1</th>\n",
       "                        <td id=\"T_e346089c_5c0c_11ea_8963_3df42264cf28row1_col0\" class=\"data row1 col0\" >0</td>\n",
       "                        <td id=\"T_e346089c_5c0c_11ea_8963_3df42264cf28row1_col1\" class=\"data row1 col1\" >1</td>\n",
       "                        <td id=\"T_e346089c_5c0c_11ea_8963_3df42264cf28row1_col2\" class=\"data row1 col2\" >1</td>\n",
       "                        <td id=\"T_e346089c_5c0c_11ea_8963_3df42264cf28row1_col3\" class=\"data row1 col3\" >1</td>\n",
       "                        <td id=\"T_e346089c_5c0c_11ea_8963_3df42264cf28row1_col4\" class=\"data row1 col4\" >0</td>\n",
       "            </tr>\n",
       "            <tr>\n",
       "                        <th id=\"T_e346089c_5c0c_11ea_8963_3df42264cf28level0_row2\" class=\"row_heading level0 row2\" >2</th>\n",
       "                        <td id=\"T_e346089c_5c0c_11ea_8963_3df42264cf28row2_col0\" class=\"data row2 col0\" >1</td>\n",
       "                        <td id=\"T_e346089c_5c0c_11ea_8963_3df42264cf28row2_col1\" class=\"data row2 col1\" >1</td>\n",
       "                        <td id=\"T_e346089c_5c0c_11ea_8963_3df42264cf28row2_col2\" class=\"data row2 col2\" >1</td>\n",
       "                        <td id=\"T_e346089c_5c0c_11ea_8963_3df42264cf28row2_col3\" class=\"data row2 col3\" >1</td>\n",
       "                        <td id=\"T_e346089c_5c0c_11ea_8963_3df42264cf28row2_col4\" class=\"data row2 col4\" >0</td>\n",
       "            </tr>\n",
       "            <tr>\n",
       "                        <th id=\"T_e346089c_5c0c_11ea_8963_3df42264cf28level0_row3\" class=\"row_heading level0 row3\" >3</th>\n",
       "                        <td id=\"T_e346089c_5c0c_11ea_8963_3df42264cf28row3_col0\" class=\"data row3 col0\" >1</td>\n",
       "                        <td id=\"T_e346089c_5c0c_11ea_8963_3df42264cf28row3_col1\" class=\"data row3 col1\" >0</td>\n",
       "                        <td id=\"T_e346089c_5c0c_11ea_8963_3df42264cf28row3_col2\" class=\"data row3 col2\" >0</td>\n",
       "                        <td id=\"T_e346089c_5c0c_11ea_8963_3df42264cf28row3_col3\" class=\"data row3 col3\" >0</td>\n",
       "                        <td id=\"T_e346089c_5c0c_11ea_8963_3df42264cf28row3_col4\" class=\"data row3 col4\" >0</td>\n",
       "            </tr>\n",
       "            <tr>\n",
       "                        <th id=\"T_e346089c_5c0c_11ea_8963_3df42264cf28level0_row4\" class=\"row_heading level0 row4\" >4</th>\n",
       "                        <td id=\"T_e346089c_5c0c_11ea_8963_3df42264cf28row4_col0\" class=\"data row4 col0\" >0</td>\n",
       "                        <td id=\"T_e346089c_5c0c_11ea_8963_3df42264cf28row4_col1\" class=\"data row4 col1\" >1</td>\n",
       "                        <td id=\"T_e346089c_5c0c_11ea_8963_3df42264cf28row4_col2\" class=\"data row4 col2\" >0</td>\n",
       "                        <td id=\"T_e346089c_5c0c_11ea_8963_3df42264cf28row4_col3\" class=\"data row4 col3\" >0</td>\n",
       "                        <td id=\"T_e346089c_5c0c_11ea_8963_3df42264cf28row4_col4\" class=\"data row4 col4\" >1</td>\n",
       "            </tr>\n",
       "    </tbody></table>"
      ],
      "text/plain": [
       "<pandas.io.formats.style.Styler at 0x7fb9e44ead30>"
      ]
     },
     "metadata": {},
     "output_type": "display_data"
    },
    {
     "data": {
      "text/html": [
       "<div>\n",
       "<style scoped>\n",
       "    .dataframe tbody tr th:only-of-type {\n",
       "        vertical-align: middle;\n",
       "    }\n",
       "\n",
       "    .dataframe tbody tr th {\n",
       "        vertical-align: top;\n",
       "    }\n",
       "\n",
       "    .dataframe thead th {\n",
       "        text-align: right;\n",
       "    }\n",
       "</style>\n",
       "<table border=\"1\" class=\"dataframe\">\n",
       "  <thead>\n",
       "    <tr style=\"text-align: right;\">\n",
       "      <th></th>\n",
       "      <th></th>\n",
       "      <th>0</th>\n",
       "      <th>1</th>\n",
       "    </tr>\n",
       "  </thead>\n",
       "  <tbody>\n",
       "    <tr>\n",
       "      <th>2</th>\n",
       "      <th>3</th>\n",
       "      <td>0</td>\n",
       "      <td>0</td>\n",
       "    </tr>\n",
       "    <tr>\n",
       "      <th>3</th>\n",
       "      <th>0</th>\n",
       "      <td>1</td>\n",
       "      <td>1</td>\n",
       "    </tr>\n",
       "  </tbody>\n",
       "</table>\n",
       "</div>"
      ],
      "text/plain": [
       "     0  1\n",
       "2 3  0  0\n",
       "3 0  1  1"
      ]
     },
     "metadata": {},
     "output_type": "display_data"
    },
    {
     "name": "stdout",
     "output_type": "stream",
     "text": [
      "[1 4]\n",
      "For row partitions on cols of[2, 3]:\n",
      "\n",
      "                 gini : 0.48\n",
      "                 gini_m : -0.6000000000000001           \n"
     ]
    },
    {
     "data": {
      "text/html": [
       "<style  type=\"text/css\" >\n",
       "    #T_e3482e38_5c0c_11ea_8963_3df42264cf28row2_col0 {\n",
       "            background-color:  yellow;\n",
       "        }    #T_e3482e38_5c0c_11ea_8963_3df42264cf28row2_col1 {\n",
       "            background-color:  yellow;\n",
       "        }    #T_e3482e38_5c0c_11ea_8963_3df42264cf28row2_col2 {\n",
       "            background-color:  yellow;\n",
       "        }    #T_e3482e38_5c0c_11ea_8963_3df42264cf28row2_col3 {\n",
       "            background-color:  yellow;\n",
       "        }    #T_e3482e38_5c0c_11ea_8963_3df42264cf28row2_col4 {\n",
       "            background-color:  yellow;\n",
       "        }    #T_e3482e38_5c0c_11ea_8963_3df42264cf28row3_col0 {\n",
       "            background-color:  yellow;\n",
       "        }    #T_e3482e38_5c0c_11ea_8963_3df42264cf28row3_col1 {\n",
       "            background-color:  yellow;\n",
       "        }    #T_e3482e38_5c0c_11ea_8963_3df42264cf28row3_col2 {\n",
       "            background-color:  yellow;\n",
       "        }    #T_e3482e38_5c0c_11ea_8963_3df42264cf28row3_col3 {\n",
       "            background-color:  yellow;\n",
       "        }    #T_e3482e38_5c0c_11ea_8963_3df42264cf28row3_col4 {\n",
       "            background-color:  yellow;\n",
       "        }</style><table id=\"T_e3482e38_5c0c_11ea_8963_3df42264cf28\" ><thead>    <tr>        <th class=\"blank level0\" ></th>        <th class=\"col_heading level0 col0\" >0</th>        <th class=\"col_heading level0 col1\" >1</th>        <th class=\"col_heading level0 col2\" >2</th>        <th class=\"col_heading level0 col3\" >3</th>        <th class=\"col_heading level0 col4\" >4</th>    </tr></thead><tbody>\n",
       "                <tr>\n",
       "                        <th id=\"T_e3482e38_5c0c_11ea_8963_3df42264cf28level0_row0\" class=\"row_heading level0 row0\" >0</th>\n",
       "                        <td id=\"T_e3482e38_5c0c_11ea_8963_3df42264cf28row0_col0\" class=\"data row0 col0\" >0</td>\n",
       "                        <td id=\"T_e3482e38_5c0c_11ea_8963_3df42264cf28row0_col1\" class=\"data row0 col1\" >0</td>\n",
       "                        <td id=\"T_e3482e38_5c0c_11ea_8963_3df42264cf28row0_col2\" class=\"data row0 col2\" >1</td>\n",
       "                        <td id=\"T_e3482e38_5c0c_11ea_8963_3df42264cf28row0_col3\" class=\"data row0 col3\" >1</td>\n",
       "                        <td id=\"T_e3482e38_5c0c_11ea_8963_3df42264cf28row0_col4\" class=\"data row0 col4\" >1</td>\n",
       "            </tr>\n",
       "            <tr>\n",
       "                        <th id=\"T_e3482e38_5c0c_11ea_8963_3df42264cf28level0_row1\" class=\"row_heading level0 row1\" >1</th>\n",
       "                        <td id=\"T_e3482e38_5c0c_11ea_8963_3df42264cf28row1_col0\" class=\"data row1 col0\" >0</td>\n",
       "                        <td id=\"T_e3482e38_5c0c_11ea_8963_3df42264cf28row1_col1\" class=\"data row1 col1\" >1</td>\n",
       "                        <td id=\"T_e3482e38_5c0c_11ea_8963_3df42264cf28row1_col2\" class=\"data row1 col2\" >1</td>\n",
       "                        <td id=\"T_e3482e38_5c0c_11ea_8963_3df42264cf28row1_col3\" class=\"data row1 col3\" >1</td>\n",
       "                        <td id=\"T_e3482e38_5c0c_11ea_8963_3df42264cf28row1_col4\" class=\"data row1 col4\" >0</td>\n",
       "            </tr>\n",
       "            <tr>\n",
       "                        <th id=\"T_e3482e38_5c0c_11ea_8963_3df42264cf28level0_row2\" class=\"row_heading level0 row2\" >2</th>\n",
       "                        <td id=\"T_e3482e38_5c0c_11ea_8963_3df42264cf28row2_col0\" class=\"data row2 col0\" >1</td>\n",
       "                        <td id=\"T_e3482e38_5c0c_11ea_8963_3df42264cf28row2_col1\" class=\"data row2 col1\" >1</td>\n",
       "                        <td id=\"T_e3482e38_5c0c_11ea_8963_3df42264cf28row2_col2\" class=\"data row2 col2\" >1</td>\n",
       "                        <td id=\"T_e3482e38_5c0c_11ea_8963_3df42264cf28row2_col3\" class=\"data row2 col3\" >1</td>\n",
       "                        <td id=\"T_e3482e38_5c0c_11ea_8963_3df42264cf28row2_col4\" class=\"data row2 col4\" >0</td>\n",
       "            </tr>\n",
       "            <tr>\n",
       "                        <th id=\"T_e3482e38_5c0c_11ea_8963_3df42264cf28level0_row3\" class=\"row_heading level0 row3\" >3</th>\n",
       "                        <td id=\"T_e3482e38_5c0c_11ea_8963_3df42264cf28row3_col0\" class=\"data row3 col0\" >1</td>\n",
       "                        <td id=\"T_e3482e38_5c0c_11ea_8963_3df42264cf28row3_col1\" class=\"data row3 col1\" >0</td>\n",
       "                        <td id=\"T_e3482e38_5c0c_11ea_8963_3df42264cf28row3_col2\" class=\"data row3 col2\" >0</td>\n",
       "                        <td id=\"T_e3482e38_5c0c_11ea_8963_3df42264cf28row3_col3\" class=\"data row3 col3\" >0</td>\n",
       "                        <td id=\"T_e3482e38_5c0c_11ea_8963_3df42264cf28row3_col4\" class=\"data row3 col4\" >0</td>\n",
       "            </tr>\n",
       "            <tr>\n",
       "                        <th id=\"T_e3482e38_5c0c_11ea_8963_3df42264cf28level0_row4\" class=\"row_heading level0 row4\" >4</th>\n",
       "                        <td id=\"T_e3482e38_5c0c_11ea_8963_3df42264cf28row4_col0\" class=\"data row4 col0\" >0</td>\n",
       "                        <td id=\"T_e3482e38_5c0c_11ea_8963_3df42264cf28row4_col1\" class=\"data row4 col1\" >1</td>\n",
       "                        <td id=\"T_e3482e38_5c0c_11ea_8963_3df42264cf28row4_col2\" class=\"data row4 col2\" >0</td>\n",
       "                        <td id=\"T_e3482e38_5c0c_11ea_8963_3df42264cf28row4_col3\" class=\"data row4 col3\" >0</td>\n",
       "                        <td id=\"T_e3482e38_5c0c_11ea_8963_3df42264cf28row4_col4\" class=\"data row4 col4\" >1</td>\n",
       "            </tr>\n",
       "    </tbody></table>"
      ],
      "text/plain": [
       "<pandas.io.formats.style.Styler at 0x7fb9e44eaa58>"
      ]
     },
     "metadata": {},
     "output_type": "display_data"
    },
    {
     "name": "stdout",
     "output_type": "stream",
     "text": [
      "[[0 1 1]\n",
      " [0 0 1]] [4 1 0] [1 3 1]\n"
     ]
    },
    {
     "data": {
      "text/html": [
       "<div>\n",
       "<style scoped>\n",
       "    .dataframe tbody tr th:only-of-type {\n",
       "        vertical-align: middle;\n",
       "    }\n",
       "\n",
       "    .dataframe tbody tr th {\n",
       "        vertical-align: top;\n",
       "    }\n",
       "\n",
       "    .dataframe thead tr th {\n",
       "        text-align: left;\n",
       "    }\n",
       "</style>\n",
       "<table border=\"1\" class=\"dataframe\">\n",
       "  <thead>\n",
       "    <tr>\n",
       "      <th></th>\n",
       "      <th>1</th>\n",
       "      <th>3</th>\n",
       "      <th>1</th>\n",
       "    </tr>\n",
       "    <tr>\n",
       "      <th></th>\n",
       "      <th>4</th>\n",
       "      <th>1</th>\n",
       "      <th>0</th>\n",
       "    </tr>\n",
       "  </thead>\n",
       "  <tbody>\n",
       "    <tr>\n",
       "      <th>0</th>\n",
       "      <td>0</td>\n",
       "      <td>1</td>\n",
       "      <td>1</td>\n",
       "    </tr>\n",
       "    <tr>\n",
       "      <th>1</th>\n",
       "      <td>0</td>\n",
       "      <td>0</td>\n",
       "      <td>1</td>\n",
       "    </tr>\n",
       "  </tbody>\n",
       "</table>\n",
       "</div>"
      ],
      "text/plain": [
       "   1  3  1\n",
       "   4  1  0\n",
       "0  0  1  1\n",
       "1  0  0  1"
      ]
     },
     "metadata": {},
     "output_type": "display_data"
    },
    {
     "name": "stdout",
     "output_type": "stream",
     "text": [
      "[1 2 4]\n",
      "For column partitions on cols of[2, 3]:\n",
      "\n",
      "                 gini : 0.5599999999999999\n",
      "                 gini_m : 0.07999999999999996           \n"
     ]
    },
    {
     "data": {
      "text/plain": [
       "-0.47200000000000014"
      ]
     },
     "execution_count": 6,
     "metadata": {},
     "output_type": "execute_result"
    }
   ],
   "source": [
    "\n",
    "size = (5, 5)\n",
    "mat = np.random.choice([1,0],size)\n",
    "\n",
    "orbi = OrBi(mat)\n",
    "orbi.gini_mu([2,3],[2,3])"
   ]
  },
  {
   "cell_type": "code",
   "execution_count": 94,
   "metadata": {},
   "outputs": [
    {
     "data": {
      "text/html": [
       "<style  type=\"text/css\" >\n",
       "    #T_112cc694_5c0b_11ea_8ee8_6158acca0925row0_col2 {\n",
       "            background-color:  yellow;\n",
       "        }    #T_112cc694_5c0b_11ea_8ee8_6158acca0925row0_col3 {\n",
       "            background-color:  yellow;\n",
       "        }    #T_112cc694_5c0b_11ea_8ee8_6158acca0925row1_col2 {\n",
       "            background-color:  yellow;\n",
       "        }    #T_112cc694_5c0b_11ea_8ee8_6158acca0925row1_col3 {\n",
       "            background-color:  yellow;\n",
       "        }    #T_112cc694_5c0b_11ea_8ee8_6158acca0925row2_col2 {\n",
       "            background-color:  yellow;\n",
       "        }    #T_112cc694_5c0b_11ea_8ee8_6158acca0925row2_col3 {\n",
       "            background-color:  yellow;\n",
       "        }    #T_112cc694_5c0b_11ea_8ee8_6158acca0925row3_col2 {\n",
       "            background-color:  yellow;\n",
       "        }    #T_112cc694_5c0b_11ea_8ee8_6158acca0925row3_col3 {\n",
       "            background-color:  yellow;\n",
       "        }    #T_112cc694_5c0b_11ea_8ee8_6158acca0925row4_col2 {\n",
       "            background-color:  yellow;\n",
       "        }    #T_112cc694_5c0b_11ea_8ee8_6158acca0925row4_col3 {\n",
       "            background-color:  yellow;\n",
       "        }</style><table id=\"T_112cc694_5c0b_11ea_8ee8_6158acca0925\" ><thead>    <tr>        <th class=\"blank level0\" ></th>        <th class=\"col_heading level0 col0\" >0</th>        <th class=\"col_heading level0 col1\" >1</th>        <th class=\"col_heading level0 col2\" >2</th>        <th class=\"col_heading level0 col3\" >3</th>        <th class=\"col_heading level0 col4\" >4</th>    </tr></thead><tbody>\n",
       "                <tr>\n",
       "                        <th id=\"T_112cc694_5c0b_11ea_8ee8_6158acca0925level0_row0\" class=\"row_heading level0 row0\" >0</th>\n",
       "                        <td id=\"T_112cc694_5c0b_11ea_8ee8_6158acca0925row0_col0\" class=\"data row0 col0\" >0</td>\n",
       "                        <td id=\"T_112cc694_5c0b_11ea_8ee8_6158acca0925row0_col1\" class=\"data row0 col1\" >1</td>\n",
       "                        <td id=\"T_112cc694_5c0b_11ea_8ee8_6158acca0925row0_col2\" class=\"data row0 col2\" >1</td>\n",
       "                        <td id=\"T_112cc694_5c0b_11ea_8ee8_6158acca0925row0_col3\" class=\"data row0 col3\" >0</td>\n",
       "                        <td id=\"T_112cc694_5c0b_11ea_8ee8_6158acca0925row0_col4\" class=\"data row0 col4\" >1</td>\n",
       "            </tr>\n",
       "            <tr>\n",
       "                        <th id=\"T_112cc694_5c0b_11ea_8ee8_6158acca0925level0_row1\" class=\"row_heading level0 row1\" >1</th>\n",
       "                        <td id=\"T_112cc694_5c0b_11ea_8ee8_6158acca0925row1_col0\" class=\"data row1 col0\" >1</td>\n",
       "                        <td id=\"T_112cc694_5c0b_11ea_8ee8_6158acca0925row1_col1\" class=\"data row1 col1\" >0</td>\n",
       "                        <td id=\"T_112cc694_5c0b_11ea_8ee8_6158acca0925row1_col2\" class=\"data row1 col2\" >0</td>\n",
       "                        <td id=\"T_112cc694_5c0b_11ea_8ee8_6158acca0925row1_col3\" class=\"data row1 col3\" >1</td>\n",
       "                        <td id=\"T_112cc694_5c0b_11ea_8ee8_6158acca0925row1_col4\" class=\"data row1 col4\" >0</td>\n",
       "            </tr>\n",
       "            <tr>\n",
       "                        <th id=\"T_112cc694_5c0b_11ea_8ee8_6158acca0925level0_row2\" class=\"row_heading level0 row2\" >2</th>\n",
       "                        <td id=\"T_112cc694_5c0b_11ea_8ee8_6158acca0925row2_col0\" class=\"data row2 col0\" >0</td>\n",
       "                        <td id=\"T_112cc694_5c0b_11ea_8ee8_6158acca0925row2_col1\" class=\"data row2 col1\" >1</td>\n",
       "                        <td id=\"T_112cc694_5c0b_11ea_8ee8_6158acca0925row2_col2\" class=\"data row2 col2\" >1</td>\n",
       "                        <td id=\"T_112cc694_5c0b_11ea_8ee8_6158acca0925row2_col3\" class=\"data row2 col3\" >0</td>\n",
       "                        <td id=\"T_112cc694_5c0b_11ea_8ee8_6158acca0925row2_col4\" class=\"data row2 col4\" >1</td>\n",
       "            </tr>\n",
       "            <tr>\n",
       "                        <th id=\"T_112cc694_5c0b_11ea_8ee8_6158acca0925level0_row3\" class=\"row_heading level0 row3\" >3</th>\n",
       "                        <td id=\"T_112cc694_5c0b_11ea_8ee8_6158acca0925row3_col0\" class=\"data row3 col0\" >1</td>\n",
       "                        <td id=\"T_112cc694_5c0b_11ea_8ee8_6158acca0925row3_col1\" class=\"data row3 col1\" >1</td>\n",
       "                        <td id=\"T_112cc694_5c0b_11ea_8ee8_6158acca0925row3_col2\" class=\"data row3 col2\" >0</td>\n",
       "                        <td id=\"T_112cc694_5c0b_11ea_8ee8_6158acca0925row3_col3\" class=\"data row3 col3\" >1</td>\n",
       "                        <td id=\"T_112cc694_5c0b_11ea_8ee8_6158acca0925row3_col4\" class=\"data row3 col4\" >1</td>\n",
       "            </tr>\n",
       "            <tr>\n",
       "                        <th id=\"T_112cc694_5c0b_11ea_8ee8_6158acca0925level0_row4\" class=\"row_heading level0 row4\" >4</th>\n",
       "                        <td id=\"T_112cc694_5c0b_11ea_8ee8_6158acca0925row4_col0\" class=\"data row4 col0\" >0</td>\n",
       "                        <td id=\"T_112cc694_5c0b_11ea_8ee8_6158acca0925row4_col1\" class=\"data row4 col1\" >1</td>\n",
       "                        <td id=\"T_112cc694_5c0b_11ea_8ee8_6158acca0925row4_col2\" class=\"data row4 col2\" >1</td>\n",
       "                        <td id=\"T_112cc694_5c0b_11ea_8ee8_6158acca0925row4_col3\" class=\"data row4 col3\" >1</td>\n",
       "                        <td id=\"T_112cc694_5c0b_11ea_8ee8_6158acca0925row4_col4\" class=\"data row4 col4\" >1</td>\n",
       "            </tr>\n",
       "    </tbody></table>"
      ],
      "text/plain": [
       "<pandas.io.formats.style.Styler at 0x7fbc699b42e8>"
      ]
     },
     "metadata": {},
     "output_type": "display_data"
    },
    {
     "data": {
      "text/html": [
       "<div>\n",
       "<style scoped>\n",
       "    .dataframe tbody tr th:only-of-type {\n",
       "        vertical-align: middle;\n",
       "    }\n",
       "\n",
       "    .dataframe tbody tr th {\n",
       "        vertical-align: top;\n",
       "    }\n",
       "\n",
       "    .dataframe thead th {\n",
       "        text-align: right;\n",
       "    }\n",
       "</style>\n",
       "<table border=\"1\" class=\"dataframe\">\n",
       "  <thead>\n",
       "    <tr style=\"text-align: right;\">\n",
       "      <th></th>\n",
       "      <th></th>\n",
       "      <th>0</th>\n",
       "      <th>1</th>\n",
       "    </tr>\n",
       "  </thead>\n",
       "  <tbody>\n",
       "    <tr>\n",
       "      <th rowspan=\"2\" valign=\"top\">2</th>\n",
       "      <th>1</th>\n",
       "      <td>0</td>\n",
       "      <td>1</td>\n",
       "    </tr>\n",
       "    <tr>\n",
       "      <th>0</th>\n",
       "      <td>1</td>\n",
       "      <td>0</td>\n",
       "    </tr>\n",
       "    <tr>\n",
       "      <th>1</th>\n",
       "      <th>4</th>\n",
       "      <td>1</td>\n",
       "      <td>1</td>\n",
       "    </tr>\n",
       "  </tbody>\n",
       "</table>\n",
       "</div>"
      ],
      "text/plain": [
       "     0  1\n",
       "2 1  0  1\n",
       "  0  1  0\n",
       "1 4  1  1"
      ]
     },
     "metadata": {},
     "output_type": "display_data"
    },
    {
     "name": "stdout",
     "output_type": "stream",
     "text": [
      "[0.16 0.16 0.04] [0.5 0.5 1. ]\n",
      "For row partitions on cols of[2, 3]:\n",
      "\n",
      "                 gini : 0.6399999999999999\n",
      "                 gini_m : 0.7999999999999999           \n"
     ]
    },
    {
     "data": {
      "text/plain": [
       "(0.6399999999999999, 0.7999999999999999)"
      ]
     },
     "execution_count": 94,
     "metadata": {},
     "output_type": "execute_result"
    }
   ],
   "source": [
    "\n",
    "size = (5, 5)\n",
    "mat = np.random.choice([1,0],size)\n",
    "\n",
    "orbi = OrBi(mat)\n",
    "\n",
    "# orbi.proj(2,[2,3])\n",
    "orbi.r_par([2,3])\n",
    "\n"
   ]
  },
  {
   "cell_type": "code",
   "execution_count": 91,
   "metadata": {},
   "outputs": [
    {
     "data": {
      "text/html": [
       "<style  type=\"text/css\" >\n",
       "    #T_7424c73c_5bfd_11ea_8ee8_6158acca0925row2_col0 {\n",
       "            background-color:  yellow;\n",
       "        }    #T_7424c73c_5bfd_11ea_8ee8_6158acca0925row2_col1 {\n",
       "            background-color:  yellow;\n",
       "        }    #T_7424c73c_5bfd_11ea_8ee8_6158acca0925row2_col2 {\n",
       "            background-color:  yellow;\n",
       "        }    #T_7424c73c_5bfd_11ea_8ee8_6158acca0925row2_col3 {\n",
       "            background-color:  yellow;\n",
       "        }    #T_7424c73c_5bfd_11ea_8ee8_6158acca0925row2_col4 {\n",
       "            background-color:  yellow;\n",
       "        }    #T_7424c73c_5bfd_11ea_8ee8_6158acca0925row3_col0 {\n",
       "            background-color:  yellow;\n",
       "        }    #T_7424c73c_5bfd_11ea_8ee8_6158acca0925row3_col1 {\n",
       "            background-color:  yellow;\n",
       "        }    #T_7424c73c_5bfd_11ea_8ee8_6158acca0925row3_col2 {\n",
       "            background-color:  yellow;\n",
       "        }    #T_7424c73c_5bfd_11ea_8ee8_6158acca0925row3_col3 {\n",
       "            background-color:  yellow;\n",
       "        }    #T_7424c73c_5bfd_11ea_8ee8_6158acca0925row3_col4 {\n",
       "            background-color:  yellow;\n",
       "        }</style><table id=\"T_7424c73c_5bfd_11ea_8ee8_6158acca0925\" ><thead>    <tr>        <th class=\"blank level0\" ></th>        <th class=\"col_heading level0 col0\" >0</th>        <th class=\"col_heading level0 col1\" >1</th>        <th class=\"col_heading level0 col2\" >2</th>        <th class=\"col_heading level0 col3\" >3</th>        <th class=\"col_heading level0 col4\" >4</th>    </tr></thead><tbody>\n",
       "                <tr>\n",
       "                        <th id=\"T_7424c73c_5bfd_11ea_8ee8_6158acca0925level0_row0\" class=\"row_heading level0 row0\" >0</th>\n",
       "                        <td id=\"T_7424c73c_5bfd_11ea_8ee8_6158acca0925row0_col0\" class=\"data row0 col0\" >0</td>\n",
       "                        <td id=\"T_7424c73c_5bfd_11ea_8ee8_6158acca0925row0_col1\" class=\"data row0 col1\" >1</td>\n",
       "                        <td id=\"T_7424c73c_5bfd_11ea_8ee8_6158acca0925row0_col2\" class=\"data row0 col2\" >0</td>\n",
       "                        <td id=\"T_7424c73c_5bfd_11ea_8ee8_6158acca0925row0_col3\" class=\"data row0 col3\" >1</td>\n",
       "                        <td id=\"T_7424c73c_5bfd_11ea_8ee8_6158acca0925row0_col4\" class=\"data row0 col4\" >0</td>\n",
       "            </tr>\n",
       "            <tr>\n",
       "                        <th id=\"T_7424c73c_5bfd_11ea_8ee8_6158acca0925level0_row1\" class=\"row_heading level0 row1\" >1</th>\n",
       "                        <td id=\"T_7424c73c_5bfd_11ea_8ee8_6158acca0925row1_col0\" class=\"data row1 col0\" >1</td>\n",
       "                        <td id=\"T_7424c73c_5bfd_11ea_8ee8_6158acca0925row1_col1\" class=\"data row1 col1\" >0</td>\n",
       "                        <td id=\"T_7424c73c_5bfd_11ea_8ee8_6158acca0925row1_col2\" class=\"data row1 col2\" >0</td>\n",
       "                        <td id=\"T_7424c73c_5bfd_11ea_8ee8_6158acca0925row1_col3\" class=\"data row1 col3\" >1</td>\n",
       "                        <td id=\"T_7424c73c_5bfd_11ea_8ee8_6158acca0925row1_col4\" class=\"data row1 col4\" >1</td>\n",
       "            </tr>\n",
       "            <tr>\n",
       "                        <th id=\"T_7424c73c_5bfd_11ea_8ee8_6158acca0925level0_row2\" class=\"row_heading level0 row2\" >2</th>\n",
       "                        <td id=\"T_7424c73c_5bfd_11ea_8ee8_6158acca0925row2_col0\" class=\"data row2 col0\" >0</td>\n",
       "                        <td id=\"T_7424c73c_5bfd_11ea_8ee8_6158acca0925row2_col1\" class=\"data row2 col1\" >0</td>\n",
       "                        <td id=\"T_7424c73c_5bfd_11ea_8ee8_6158acca0925row2_col2\" class=\"data row2 col2\" >0</td>\n",
       "                        <td id=\"T_7424c73c_5bfd_11ea_8ee8_6158acca0925row2_col3\" class=\"data row2 col3\" >0</td>\n",
       "                        <td id=\"T_7424c73c_5bfd_11ea_8ee8_6158acca0925row2_col4\" class=\"data row2 col4\" >1</td>\n",
       "            </tr>\n",
       "            <tr>\n",
       "                        <th id=\"T_7424c73c_5bfd_11ea_8ee8_6158acca0925level0_row3\" class=\"row_heading level0 row3\" >3</th>\n",
       "                        <td id=\"T_7424c73c_5bfd_11ea_8ee8_6158acca0925row3_col0\" class=\"data row3 col0\" >0</td>\n",
       "                        <td id=\"T_7424c73c_5bfd_11ea_8ee8_6158acca0925row3_col1\" class=\"data row3 col1\" >1</td>\n",
       "                        <td id=\"T_7424c73c_5bfd_11ea_8ee8_6158acca0925row3_col2\" class=\"data row3 col2\" >0</td>\n",
       "                        <td id=\"T_7424c73c_5bfd_11ea_8ee8_6158acca0925row3_col3\" class=\"data row3 col3\" >0</td>\n",
       "                        <td id=\"T_7424c73c_5bfd_11ea_8ee8_6158acca0925row3_col4\" class=\"data row3 col4\" >0</td>\n",
       "            </tr>\n",
       "            <tr>\n",
       "                        <th id=\"T_7424c73c_5bfd_11ea_8ee8_6158acca0925level0_row4\" class=\"row_heading level0 row4\" >4</th>\n",
       "                        <td id=\"T_7424c73c_5bfd_11ea_8ee8_6158acca0925row4_col0\" class=\"data row4 col0\" >0</td>\n",
       "                        <td id=\"T_7424c73c_5bfd_11ea_8ee8_6158acca0925row4_col1\" class=\"data row4 col1\" >1</td>\n",
       "                        <td id=\"T_7424c73c_5bfd_11ea_8ee8_6158acca0925row4_col2\" class=\"data row4 col2\" >1</td>\n",
       "                        <td id=\"T_7424c73c_5bfd_11ea_8ee8_6158acca0925row4_col3\" class=\"data row4 col3\" >1</td>\n",
       "                        <td id=\"T_7424c73c_5bfd_11ea_8ee8_6158acca0925row4_col4\" class=\"data row4 col4\" >1</td>\n",
       "            </tr>\n",
       "    </tbody></table>"
      ],
      "text/plain": [
       "<pandas.io.formats.style.Styler at 0x7fbc699170b8>"
      ]
     },
     "metadata": {},
     "output_type": "display_data"
    },
    {
     "name": "stdout",
     "output_type": "stream",
     "text": [
      "[[0 0 1]\n",
      " [0 1 0]] [0 1 4] [3 1 1]\n"
     ]
    },
    {
     "data": {
      "text/html": [
       "<div>\n",
       "<style scoped>\n",
       "    .dataframe tbody tr th:only-of-type {\n",
       "        vertical-align: middle;\n",
       "    }\n",
       "\n",
       "    .dataframe tbody tr th {\n",
       "        vertical-align: top;\n",
       "    }\n",
       "\n",
       "    .dataframe thead tr th {\n",
       "        text-align: left;\n",
       "    }\n",
       "</style>\n",
       "<table border=\"1\" class=\"dataframe\">\n",
       "  <thead>\n",
       "    <tr>\n",
       "      <th></th>\n",
       "      <th>3</th>\n",
       "      <th colspan=\"2\" halign=\"left\">1</th>\n",
       "    </tr>\n",
       "    <tr>\n",
       "      <th></th>\n",
       "      <th>0</th>\n",
       "      <th>1</th>\n",
       "      <th>4</th>\n",
       "    </tr>\n",
       "  </thead>\n",
       "  <tbody>\n",
       "    <tr>\n",
       "      <th>0</th>\n",
       "      <td>0</td>\n",
       "      <td>0</td>\n",
       "      <td>1</td>\n",
       "    </tr>\n",
       "    <tr>\n",
       "      <th>1</th>\n",
       "      <td>0</td>\n",
       "      <td>1</td>\n",
       "      <td>0</td>\n",
       "    </tr>\n",
       "  </tbody>\n",
       "</table>\n",
       "</div>"
      ],
      "text/plain": [
       "   3  1   \n",
       "   0  1  4\n",
       "0  0  0  1\n",
       "1  0  1  0"
      ]
     },
     "metadata": {},
     "output_type": "display_data"
    },
    {
     "name": "stdout",
     "output_type": "stream",
     "text": [
      "For column partitions on cols of[2, 3]:\n",
      "\n",
      "                 gini : 0.5599999999999999\n",
      "                 gini_m : 0.96           \n"
     ]
    },
    {
     "data": {
      "text/plain": [
       "(0.5599999999999999, 0.96)"
      ]
     },
     "execution_count": 91,
     "metadata": {},
     "output_type": "execute_result"
    }
   ],
   "source": [
    "orbi.c_par([2,3])\n"
   ]
  },
  {
   "cell_type": "code",
   "execution_count": 92,
   "metadata": {},
   "outputs": [
    {
     "data": {
      "text/html": [
       "<style  type=\"text/css\" >\n",
       "    #T_7d7b76aa_5bfd_11ea_8ee8_6158acca0925row0_col2 {\n",
       "            background-color:  yellow;\n",
       "        }    #T_7d7b76aa_5bfd_11ea_8ee8_6158acca0925row0_col3 {\n",
       "            background-color:  yellow;\n",
       "        }    #T_7d7b76aa_5bfd_11ea_8ee8_6158acca0925row1_col2 {\n",
       "            background-color:  yellow;\n",
       "        }    #T_7d7b76aa_5bfd_11ea_8ee8_6158acca0925row1_col3 {\n",
       "            background-color:  yellow;\n",
       "        }    #T_7d7b76aa_5bfd_11ea_8ee8_6158acca0925row2_col2 {\n",
       "            background-color:  yellow;\n",
       "        }    #T_7d7b76aa_5bfd_11ea_8ee8_6158acca0925row2_col3 {\n",
       "            background-color:  yellow;\n",
       "        }    #T_7d7b76aa_5bfd_11ea_8ee8_6158acca0925row3_col2 {\n",
       "            background-color:  yellow;\n",
       "        }    #T_7d7b76aa_5bfd_11ea_8ee8_6158acca0925row3_col3 {\n",
       "            background-color:  yellow;\n",
       "        }    #T_7d7b76aa_5bfd_11ea_8ee8_6158acca0925row4_col2 {\n",
       "            background-color:  yellow;\n",
       "        }    #T_7d7b76aa_5bfd_11ea_8ee8_6158acca0925row4_col3 {\n",
       "            background-color:  yellow;\n",
       "        }</style><table id=\"T_7d7b76aa_5bfd_11ea_8ee8_6158acca0925\" ><thead>    <tr>        <th class=\"blank level0\" ></th>        <th class=\"col_heading level0 col0\" >0</th>        <th class=\"col_heading level0 col1\" >1</th>        <th class=\"col_heading level0 col2\" >2</th>        <th class=\"col_heading level0 col3\" >3</th>        <th class=\"col_heading level0 col4\" >4</th>    </tr></thead><tbody>\n",
       "                <tr>\n",
       "                        <th id=\"T_7d7b76aa_5bfd_11ea_8ee8_6158acca0925level0_row0\" class=\"row_heading level0 row0\" >0</th>\n",
       "                        <td id=\"T_7d7b76aa_5bfd_11ea_8ee8_6158acca0925row0_col0\" class=\"data row0 col0\" >0</td>\n",
       "                        <td id=\"T_7d7b76aa_5bfd_11ea_8ee8_6158acca0925row0_col1\" class=\"data row0 col1\" >1</td>\n",
       "                        <td id=\"T_7d7b76aa_5bfd_11ea_8ee8_6158acca0925row0_col2\" class=\"data row0 col2\" >0</td>\n",
       "                        <td id=\"T_7d7b76aa_5bfd_11ea_8ee8_6158acca0925row0_col3\" class=\"data row0 col3\" >1</td>\n",
       "                        <td id=\"T_7d7b76aa_5bfd_11ea_8ee8_6158acca0925row0_col4\" class=\"data row0 col4\" >0</td>\n",
       "            </tr>\n",
       "            <tr>\n",
       "                        <th id=\"T_7d7b76aa_5bfd_11ea_8ee8_6158acca0925level0_row1\" class=\"row_heading level0 row1\" >1</th>\n",
       "                        <td id=\"T_7d7b76aa_5bfd_11ea_8ee8_6158acca0925row1_col0\" class=\"data row1 col0\" >1</td>\n",
       "                        <td id=\"T_7d7b76aa_5bfd_11ea_8ee8_6158acca0925row1_col1\" class=\"data row1 col1\" >0</td>\n",
       "                        <td id=\"T_7d7b76aa_5bfd_11ea_8ee8_6158acca0925row1_col2\" class=\"data row1 col2\" >0</td>\n",
       "                        <td id=\"T_7d7b76aa_5bfd_11ea_8ee8_6158acca0925row1_col3\" class=\"data row1 col3\" >1</td>\n",
       "                        <td id=\"T_7d7b76aa_5bfd_11ea_8ee8_6158acca0925row1_col4\" class=\"data row1 col4\" >1</td>\n",
       "            </tr>\n",
       "            <tr>\n",
       "                        <th id=\"T_7d7b76aa_5bfd_11ea_8ee8_6158acca0925level0_row2\" class=\"row_heading level0 row2\" >2</th>\n",
       "                        <td id=\"T_7d7b76aa_5bfd_11ea_8ee8_6158acca0925row2_col0\" class=\"data row2 col0\" >0</td>\n",
       "                        <td id=\"T_7d7b76aa_5bfd_11ea_8ee8_6158acca0925row2_col1\" class=\"data row2 col1\" >0</td>\n",
       "                        <td id=\"T_7d7b76aa_5bfd_11ea_8ee8_6158acca0925row2_col2\" class=\"data row2 col2\" >0</td>\n",
       "                        <td id=\"T_7d7b76aa_5bfd_11ea_8ee8_6158acca0925row2_col3\" class=\"data row2 col3\" >0</td>\n",
       "                        <td id=\"T_7d7b76aa_5bfd_11ea_8ee8_6158acca0925row2_col4\" class=\"data row2 col4\" >1</td>\n",
       "            </tr>\n",
       "            <tr>\n",
       "                        <th id=\"T_7d7b76aa_5bfd_11ea_8ee8_6158acca0925level0_row3\" class=\"row_heading level0 row3\" >3</th>\n",
       "                        <td id=\"T_7d7b76aa_5bfd_11ea_8ee8_6158acca0925row3_col0\" class=\"data row3 col0\" >0</td>\n",
       "                        <td id=\"T_7d7b76aa_5bfd_11ea_8ee8_6158acca0925row3_col1\" class=\"data row3 col1\" >1</td>\n",
       "                        <td id=\"T_7d7b76aa_5bfd_11ea_8ee8_6158acca0925row3_col2\" class=\"data row3 col2\" >0</td>\n",
       "                        <td id=\"T_7d7b76aa_5bfd_11ea_8ee8_6158acca0925row3_col3\" class=\"data row3 col3\" >0</td>\n",
       "                        <td id=\"T_7d7b76aa_5bfd_11ea_8ee8_6158acca0925row3_col4\" class=\"data row3 col4\" >0</td>\n",
       "            </tr>\n",
       "            <tr>\n",
       "                        <th id=\"T_7d7b76aa_5bfd_11ea_8ee8_6158acca0925level0_row4\" class=\"row_heading level0 row4\" >4</th>\n",
       "                        <td id=\"T_7d7b76aa_5bfd_11ea_8ee8_6158acca0925row4_col0\" class=\"data row4 col0\" >0</td>\n",
       "                        <td id=\"T_7d7b76aa_5bfd_11ea_8ee8_6158acca0925row4_col1\" class=\"data row4 col1\" >1</td>\n",
       "                        <td id=\"T_7d7b76aa_5bfd_11ea_8ee8_6158acca0925row4_col2\" class=\"data row4 col2\" >1</td>\n",
       "                        <td id=\"T_7d7b76aa_5bfd_11ea_8ee8_6158acca0925row4_col3\" class=\"data row4 col3\" >1</td>\n",
       "                        <td id=\"T_7d7b76aa_5bfd_11ea_8ee8_6158acca0925row4_col4\" class=\"data row4 col4\" >1</td>\n",
       "            </tr>\n",
       "    </tbody></table>"
      ],
      "text/plain": [
       "<pandas.io.formats.style.Styler at 0x7fbc69917a20>"
      ]
     },
     "metadata": {},
     "output_type": "display_data"
    },
    {
     "data": {
      "text/html": [
       "<div>\n",
       "<style scoped>\n",
       "    .dataframe tbody tr th:only-of-type {\n",
       "        vertical-align: middle;\n",
       "    }\n",
       "\n",
       "    .dataframe tbody tr th {\n",
       "        vertical-align: top;\n",
       "    }\n",
       "\n",
       "    .dataframe thead th {\n",
       "        text-align: right;\n",
       "    }\n",
       "</style>\n",
       "<table border=\"1\" class=\"dataframe\">\n",
       "  <thead>\n",
       "    <tr style=\"text-align: right;\">\n",
       "      <th></th>\n",
       "      <th></th>\n",
       "      <th>0</th>\n",
       "      <th>1</th>\n",
       "    </tr>\n",
       "  </thead>\n",
       "  <tbody>\n",
       "    <tr>\n",
       "      <th rowspan=\"2\" valign=\"top\">2</th>\n",
       "      <th>2</th>\n",
       "      <td>0</td>\n",
       "      <td>0</td>\n",
       "    </tr>\n",
       "    <tr>\n",
       "      <th>0</th>\n",
       "      <td>0</td>\n",
       "      <td>1</td>\n",
       "    </tr>\n",
       "    <tr>\n",
       "      <th>1</th>\n",
       "      <th>4</th>\n",
       "      <td>1</td>\n",
       "      <td>1</td>\n",
       "    </tr>\n",
       "  </tbody>\n",
       "</table>\n",
       "</div>"
      ],
      "text/plain": [
       "     0  1\n",
       "2 2  0  0\n",
       "  0  0  1\n",
       "1 4  1  1"
      ]
     },
     "metadata": {},
     "output_type": "display_data"
    },
    {
     "name": "stdout",
     "output_type": "stream",
     "text": [
      "For row partitions on cols of[2, 3]:\n",
      "\n",
      "                 gini : 0.6399999999999999\n",
      "                 gini_m : 0.88           \n"
     ]
    },
    {
     "data": {
      "text/html": [
       "<style  type=\"text/css\" >\n",
       "    #T_7d825718_5bfd_11ea_8ee8_6158acca0925row2_col0 {\n",
       "            background-color:  yellow;\n",
       "        }    #T_7d825718_5bfd_11ea_8ee8_6158acca0925row2_col1 {\n",
       "            background-color:  yellow;\n",
       "        }    #T_7d825718_5bfd_11ea_8ee8_6158acca0925row2_col2 {\n",
       "            background-color:  yellow;\n",
       "        }    #T_7d825718_5bfd_11ea_8ee8_6158acca0925row2_col3 {\n",
       "            background-color:  yellow;\n",
       "        }    #T_7d825718_5bfd_11ea_8ee8_6158acca0925row2_col4 {\n",
       "            background-color:  yellow;\n",
       "        }    #T_7d825718_5bfd_11ea_8ee8_6158acca0925row3_col0 {\n",
       "            background-color:  yellow;\n",
       "        }    #T_7d825718_5bfd_11ea_8ee8_6158acca0925row3_col1 {\n",
       "            background-color:  yellow;\n",
       "        }    #T_7d825718_5bfd_11ea_8ee8_6158acca0925row3_col2 {\n",
       "            background-color:  yellow;\n",
       "        }    #T_7d825718_5bfd_11ea_8ee8_6158acca0925row3_col3 {\n",
       "            background-color:  yellow;\n",
       "        }    #T_7d825718_5bfd_11ea_8ee8_6158acca0925row3_col4 {\n",
       "            background-color:  yellow;\n",
       "        }</style><table id=\"T_7d825718_5bfd_11ea_8ee8_6158acca0925\" ><thead>    <tr>        <th class=\"blank level0\" ></th>        <th class=\"col_heading level0 col0\" >0</th>        <th class=\"col_heading level0 col1\" >1</th>        <th class=\"col_heading level0 col2\" >2</th>        <th class=\"col_heading level0 col3\" >3</th>        <th class=\"col_heading level0 col4\" >4</th>    </tr></thead><tbody>\n",
       "                <tr>\n",
       "                        <th id=\"T_7d825718_5bfd_11ea_8ee8_6158acca0925level0_row0\" class=\"row_heading level0 row0\" >0</th>\n",
       "                        <td id=\"T_7d825718_5bfd_11ea_8ee8_6158acca0925row0_col0\" class=\"data row0 col0\" >0</td>\n",
       "                        <td id=\"T_7d825718_5bfd_11ea_8ee8_6158acca0925row0_col1\" class=\"data row0 col1\" >1</td>\n",
       "                        <td id=\"T_7d825718_5bfd_11ea_8ee8_6158acca0925row0_col2\" class=\"data row0 col2\" >0</td>\n",
       "                        <td id=\"T_7d825718_5bfd_11ea_8ee8_6158acca0925row0_col3\" class=\"data row0 col3\" >1</td>\n",
       "                        <td id=\"T_7d825718_5bfd_11ea_8ee8_6158acca0925row0_col4\" class=\"data row0 col4\" >0</td>\n",
       "            </tr>\n",
       "            <tr>\n",
       "                        <th id=\"T_7d825718_5bfd_11ea_8ee8_6158acca0925level0_row1\" class=\"row_heading level0 row1\" >1</th>\n",
       "                        <td id=\"T_7d825718_5bfd_11ea_8ee8_6158acca0925row1_col0\" class=\"data row1 col0\" >1</td>\n",
       "                        <td id=\"T_7d825718_5bfd_11ea_8ee8_6158acca0925row1_col1\" class=\"data row1 col1\" >0</td>\n",
       "                        <td id=\"T_7d825718_5bfd_11ea_8ee8_6158acca0925row1_col2\" class=\"data row1 col2\" >0</td>\n",
       "                        <td id=\"T_7d825718_5bfd_11ea_8ee8_6158acca0925row1_col3\" class=\"data row1 col3\" >1</td>\n",
       "                        <td id=\"T_7d825718_5bfd_11ea_8ee8_6158acca0925row1_col4\" class=\"data row1 col4\" >1</td>\n",
       "            </tr>\n",
       "            <tr>\n",
       "                        <th id=\"T_7d825718_5bfd_11ea_8ee8_6158acca0925level0_row2\" class=\"row_heading level0 row2\" >2</th>\n",
       "                        <td id=\"T_7d825718_5bfd_11ea_8ee8_6158acca0925row2_col0\" class=\"data row2 col0\" >0</td>\n",
       "                        <td id=\"T_7d825718_5bfd_11ea_8ee8_6158acca0925row2_col1\" class=\"data row2 col1\" >0</td>\n",
       "                        <td id=\"T_7d825718_5bfd_11ea_8ee8_6158acca0925row2_col2\" class=\"data row2 col2\" >0</td>\n",
       "                        <td id=\"T_7d825718_5bfd_11ea_8ee8_6158acca0925row2_col3\" class=\"data row2 col3\" >0</td>\n",
       "                        <td id=\"T_7d825718_5bfd_11ea_8ee8_6158acca0925row2_col4\" class=\"data row2 col4\" >1</td>\n",
       "            </tr>\n",
       "            <tr>\n",
       "                        <th id=\"T_7d825718_5bfd_11ea_8ee8_6158acca0925level0_row3\" class=\"row_heading level0 row3\" >3</th>\n",
       "                        <td id=\"T_7d825718_5bfd_11ea_8ee8_6158acca0925row3_col0\" class=\"data row3 col0\" >0</td>\n",
       "                        <td id=\"T_7d825718_5bfd_11ea_8ee8_6158acca0925row3_col1\" class=\"data row3 col1\" >1</td>\n",
       "                        <td id=\"T_7d825718_5bfd_11ea_8ee8_6158acca0925row3_col2\" class=\"data row3 col2\" >0</td>\n",
       "                        <td id=\"T_7d825718_5bfd_11ea_8ee8_6158acca0925row3_col3\" class=\"data row3 col3\" >0</td>\n",
       "                        <td id=\"T_7d825718_5bfd_11ea_8ee8_6158acca0925row3_col4\" class=\"data row3 col4\" >0</td>\n",
       "            </tr>\n",
       "            <tr>\n",
       "                        <th id=\"T_7d825718_5bfd_11ea_8ee8_6158acca0925level0_row4\" class=\"row_heading level0 row4\" >4</th>\n",
       "                        <td id=\"T_7d825718_5bfd_11ea_8ee8_6158acca0925row4_col0\" class=\"data row4 col0\" >0</td>\n",
       "                        <td id=\"T_7d825718_5bfd_11ea_8ee8_6158acca0925row4_col1\" class=\"data row4 col1\" >1</td>\n",
       "                        <td id=\"T_7d825718_5bfd_11ea_8ee8_6158acca0925row4_col2\" class=\"data row4 col2\" >1</td>\n",
       "                        <td id=\"T_7d825718_5bfd_11ea_8ee8_6158acca0925row4_col3\" class=\"data row4 col3\" >1</td>\n",
       "                        <td id=\"T_7d825718_5bfd_11ea_8ee8_6158acca0925row4_col4\" class=\"data row4 col4\" >1</td>\n",
       "            </tr>\n",
       "    </tbody></table>"
      ],
      "text/plain": [
       "<pandas.io.formats.style.Styler at 0x7fbc69917e48>"
      ]
     },
     "metadata": {},
     "output_type": "display_data"
    },
    {
     "name": "stdout",
     "output_type": "stream",
     "text": [
      "[[0 0 1]\n",
      " [0 1 0]] [0 1 4] [3 1 1]\n"
     ]
    },
    {
     "data": {
      "text/html": [
       "<div>\n",
       "<style scoped>\n",
       "    .dataframe tbody tr th:only-of-type {\n",
       "        vertical-align: middle;\n",
       "    }\n",
       "\n",
       "    .dataframe tbody tr th {\n",
       "        vertical-align: top;\n",
       "    }\n",
       "\n",
       "    .dataframe thead tr th {\n",
       "        text-align: left;\n",
       "    }\n",
       "</style>\n",
       "<table border=\"1\" class=\"dataframe\">\n",
       "  <thead>\n",
       "    <tr>\n",
       "      <th></th>\n",
       "      <th>3</th>\n",
       "      <th colspan=\"2\" halign=\"left\">1</th>\n",
       "    </tr>\n",
       "    <tr>\n",
       "      <th></th>\n",
       "      <th>0</th>\n",
       "      <th>1</th>\n",
       "      <th>4</th>\n",
       "    </tr>\n",
       "  </thead>\n",
       "  <tbody>\n",
       "    <tr>\n",
       "      <th>0</th>\n",
       "      <td>0</td>\n",
       "      <td>0</td>\n",
       "      <td>1</td>\n",
       "    </tr>\n",
       "    <tr>\n",
       "      <th>1</th>\n",
       "      <td>0</td>\n",
       "      <td>1</td>\n",
       "      <td>0</td>\n",
       "    </tr>\n",
       "  </tbody>\n",
       "</table>\n",
       "</div>"
      ],
      "text/plain": [
       "   3  1   \n",
       "   0  1  4\n",
       "0  0  0  1\n",
       "1  0  1  0"
      ]
     },
     "metadata": {},
     "output_type": "display_data"
    },
    {
     "name": "stdout",
     "output_type": "stream",
     "text": [
      "For column partitions on cols of[2, 3]:\n",
      "\n",
      "                 gini : 0.5599999999999999\n",
      "                 gini_m : 0.96           \n"
     ]
    },
    {
     "data": {
      "text/plain": [
       "0.9951999999999999"
      ]
     },
     "execution_count": 92,
     "metadata": {},
     "output_type": "execute_result"
    }
   ],
   "source": []
  },
  {
   "cell_type": "code",
   "execution_count": 90,
   "metadata": {},
   "outputs": [
    {
     "name": "stdout",
     "output_type": "stream",
     "text": [
      "Restriction of rows [2, 3] on column 2\n"
     ]
    },
    {
     "data": {
      "text/html": [
       "<style  type=\"text/css\" >\n",
       "    #T_6a6dc22a_5bfd_11ea_8ee8_6158acca0925row2_col2 {\n",
       "            background-color:  yellow;\n",
       "        }    #T_6a6dc22a_5bfd_11ea_8ee8_6158acca0925row3_col2 {\n",
       "            background-color:  yellow;\n",
       "        }</style><table id=\"T_6a6dc22a_5bfd_11ea_8ee8_6158acca0925\" ><thead>    <tr>        <th class=\"blank level0\" ></th>        <th class=\"col_heading level0 col0\" >0</th>        <th class=\"col_heading level0 col1\" >1</th>        <th class=\"col_heading level0 col2\" >2</th>        <th class=\"col_heading level0 col3\" >3</th>        <th class=\"col_heading level0 col4\" >4</th>    </tr></thead><tbody>\n",
       "                <tr>\n",
       "                        <th id=\"T_6a6dc22a_5bfd_11ea_8ee8_6158acca0925level0_row0\" class=\"row_heading level0 row0\" >0</th>\n",
       "                        <td id=\"T_6a6dc22a_5bfd_11ea_8ee8_6158acca0925row0_col0\" class=\"data row0 col0\" >0</td>\n",
       "                        <td id=\"T_6a6dc22a_5bfd_11ea_8ee8_6158acca0925row0_col1\" class=\"data row0 col1\" >1</td>\n",
       "                        <td id=\"T_6a6dc22a_5bfd_11ea_8ee8_6158acca0925row0_col2\" class=\"data row0 col2\" >0</td>\n",
       "                        <td id=\"T_6a6dc22a_5bfd_11ea_8ee8_6158acca0925row0_col3\" class=\"data row0 col3\" >1</td>\n",
       "                        <td id=\"T_6a6dc22a_5bfd_11ea_8ee8_6158acca0925row0_col4\" class=\"data row0 col4\" >0</td>\n",
       "            </tr>\n",
       "            <tr>\n",
       "                        <th id=\"T_6a6dc22a_5bfd_11ea_8ee8_6158acca0925level0_row1\" class=\"row_heading level0 row1\" >1</th>\n",
       "                        <td id=\"T_6a6dc22a_5bfd_11ea_8ee8_6158acca0925row1_col0\" class=\"data row1 col0\" >1</td>\n",
       "                        <td id=\"T_6a6dc22a_5bfd_11ea_8ee8_6158acca0925row1_col1\" class=\"data row1 col1\" >0</td>\n",
       "                        <td id=\"T_6a6dc22a_5bfd_11ea_8ee8_6158acca0925row1_col2\" class=\"data row1 col2\" >0</td>\n",
       "                        <td id=\"T_6a6dc22a_5bfd_11ea_8ee8_6158acca0925row1_col3\" class=\"data row1 col3\" >1</td>\n",
       "                        <td id=\"T_6a6dc22a_5bfd_11ea_8ee8_6158acca0925row1_col4\" class=\"data row1 col4\" >1</td>\n",
       "            </tr>\n",
       "            <tr>\n",
       "                        <th id=\"T_6a6dc22a_5bfd_11ea_8ee8_6158acca0925level0_row2\" class=\"row_heading level0 row2\" >2</th>\n",
       "                        <td id=\"T_6a6dc22a_5bfd_11ea_8ee8_6158acca0925row2_col0\" class=\"data row2 col0\" >0</td>\n",
       "                        <td id=\"T_6a6dc22a_5bfd_11ea_8ee8_6158acca0925row2_col1\" class=\"data row2 col1\" >0</td>\n",
       "                        <td id=\"T_6a6dc22a_5bfd_11ea_8ee8_6158acca0925row2_col2\" class=\"data row2 col2\" >0</td>\n",
       "                        <td id=\"T_6a6dc22a_5bfd_11ea_8ee8_6158acca0925row2_col3\" class=\"data row2 col3\" >0</td>\n",
       "                        <td id=\"T_6a6dc22a_5bfd_11ea_8ee8_6158acca0925row2_col4\" class=\"data row2 col4\" >1</td>\n",
       "            </tr>\n",
       "            <tr>\n",
       "                        <th id=\"T_6a6dc22a_5bfd_11ea_8ee8_6158acca0925level0_row3\" class=\"row_heading level0 row3\" >3</th>\n",
       "                        <td id=\"T_6a6dc22a_5bfd_11ea_8ee8_6158acca0925row3_col0\" class=\"data row3 col0\" >0</td>\n",
       "                        <td id=\"T_6a6dc22a_5bfd_11ea_8ee8_6158acca0925row3_col1\" class=\"data row3 col1\" >1</td>\n",
       "                        <td id=\"T_6a6dc22a_5bfd_11ea_8ee8_6158acca0925row3_col2\" class=\"data row3 col2\" >0</td>\n",
       "                        <td id=\"T_6a6dc22a_5bfd_11ea_8ee8_6158acca0925row3_col3\" class=\"data row3 col3\" >0</td>\n",
       "                        <td id=\"T_6a6dc22a_5bfd_11ea_8ee8_6158acca0925row3_col4\" class=\"data row3 col4\" >0</td>\n",
       "            </tr>\n",
       "            <tr>\n",
       "                        <th id=\"T_6a6dc22a_5bfd_11ea_8ee8_6158acca0925level0_row4\" class=\"row_heading level0 row4\" >4</th>\n",
       "                        <td id=\"T_6a6dc22a_5bfd_11ea_8ee8_6158acca0925row4_col0\" class=\"data row4 col0\" >0</td>\n",
       "                        <td id=\"T_6a6dc22a_5bfd_11ea_8ee8_6158acca0925row4_col1\" class=\"data row4 col1\" >1</td>\n",
       "                        <td id=\"T_6a6dc22a_5bfd_11ea_8ee8_6158acca0925row4_col2\" class=\"data row4 col2\" >1</td>\n",
       "                        <td id=\"T_6a6dc22a_5bfd_11ea_8ee8_6158acca0925row4_col3\" class=\"data row4 col3\" >1</td>\n",
       "                        <td id=\"T_6a6dc22a_5bfd_11ea_8ee8_6158acca0925row4_col4\" class=\"data row4 col4\" >1</td>\n",
       "            </tr>\n",
       "    </tbody></table>"
      ],
      "text/plain": [
       "<pandas.io.formats.style.Styler at 0x7fbc69942fd0>"
      ]
     },
     "execution_count": 90,
     "metadata": {},
     "output_type": "execute_result"
    }
   ],
   "source": [
    "orbi.rstr(2,[2,3])"
   ]
  },
  {
   "cell_type": "code",
   "execution_count": 15,
   "metadata": {},
   "outputs": [
    {
     "data": {
      "text/html": [
       "<style  type=\"text/css\" >\n",
       "    #T_0171aaa4_5bdd_11ea_8ee8_6158acca0925row2_col2 {\n",
       "            background-color:  yellow;\n",
       "        }    #T_0171aaa4_5bdd_11ea_8ee8_6158acca0925row2_col3 {\n",
       "            background-color:  yellow;\n",
       "        }</style><table id=\"T_0171aaa4_5bdd_11ea_8ee8_6158acca0925\" ><thead>    <tr>        <th class=\"blank level0\" ></th>        <th class=\"col_heading level0 col0\" >0</th>        <th class=\"col_heading level0 col1\" >1</th>        <th class=\"col_heading level0 col2\" >2</th>        <th class=\"col_heading level0 col3\" >3</th>        <th class=\"col_heading level0 col4\" >4</th>    </tr></thead><tbody>\n",
       "                <tr>\n",
       "                        <th id=\"T_0171aaa4_5bdd_11ea_8ee8_6158acca0925level0_row0\" class=\"row_heading level0 row0\" >0</th>\n",
       "                        <td id=\"T_0171aaa4_5bdd_11ea_8ee8_6158acca0925row0_col0\" class=\"data row0 col0\" >0</td>\n",
       "                        <td id=\"T_0171aaa4_5bdd_11ea_8ee8_6158acca0925row0_col1\" class=\"data row0 col1\" >1</td>\n",
       "                        <td id=\"T_0171aaa4_5bdd_11ea_8ee8_6158acca0925row0_col2\" class=\"data row0 col2\" >1</td>\n",
       "                        <td id=\"T_0171aaa4_5bdd_11ea_8ee8_6158acca0925row0_col3\" class=\"data row0 col3\" >0</td>\n",
       "                        <td id=\"T_0171aaa4_5bdd_11ea_8ee8_6158acca0925row0_col4\" class=\"data row0 col4\" >1</td>\n",
       "            </tr>\n",
       "            <tr>\n",
       "                        <th id=\"T_0171aaa4_5bdd_11ea_8ee8_6158acca0925level0_row1\" class=\"row_heading level0 row1\" >1</th>\n",
       "                        <td id=\"T_0171aaa4_5bdd_11ea_8ee8_6158acca0925row1_col0\" class=\"data row1 col0\" >0</td>\n",
       "                        <td id=\"T_0171aaa4_5bdd_11ea_8ee8_6158acca0925row1_col1\" class=\"data row1 col1\" >0</td>\n",
       "                        <td id=\"T_0171aaa4_5bdd_11ea_8ee8_6158acca0925row1_col2\" class=\"data row1 col2\" >0</td>\n",
       "                        <td id=\"T_0171aaa4_5bdd_11ea_8ee8_6158acca0925row1_col3\" class=\"data row1 col3\" >1</td>\n",
       "                        <td id=\"T_0171aaa4_5bdd_11ea_8ee8_6158acca0925row1_col4\" class=\"data row1 col4\" >1</td>\n",
       "            </tr>\n",
       "            <tr>\n",
       "                        <th id=\"T_0171aaa4_5bdd_11ea_8ee8_6158acca0925level0_row2\" class=\"row_heading level0 row2\" >2</th>\n",
       "                        <td id=\"T_0171aaa4_5bdd_11ea_8ee8_6158acca0925row2_col0\" class=\"data row2 col0\" >0</td>\n",
       "                        <td id=\"T_0171aaa4_5bdd_11ea_8ee8_6158acca0925row2_col1\" class=\"data row2 col1\" >0</td>\n",
       "                        <td id=\"T_0171aaa4_5bdd_11ea_8ee8_6158acca0925row2_col2\" class=\"data row2 col2\" >0</td>\n",
       "                        <td id=\"T_0171aaa4_5bdd_11ea_8ee8_6158acca0925row2_col3\" class=\"data row2 col3\" >0</td>\n",
       "                        <td id=\"T_0171aaa4_5bdd_11ea_8ee8_6158acca0925row2_col4\" class=\"data row2 col4\" >1</td>\n",
       "            </tr>\n",
       "            <tr>\n",
       "                        <th id=\"T_0171aaa4_5bdd_11ea_8ee8_6158acca0925level0_row3\" class=\"row_heading level0 row3\" >3</th>\n",
       "                        <td id=\"T_0171aaa4_5bdd_11ea_8ee8_6158acca0925row3_col0\" class=\"data row3 col0\" >0</td>\n",
       "                        <td id=\"T_0171aaa4_5bdd_11ea_8ee8_6158acca0925row3_col1\" class=\"data row3 col1\" >0</td>\n",
       "                        <td id=\"T_0171aaa4_5bdd_11ea_8ee8_6158acca0925row3_col2\" class=\"data row3 col2\" >0</td>\n",
       "                        <td id=\"T_0171aaa4_5bdd_11ea_8ee8_6158acca0925row3_col3\" class=\"data row3 col3\" >0</td>\n",
       "                        <td id=\"T_0171aaa4_5bdd_11ea_8ee8_6158acca0925row3_col4\" class=\"data row3 col4\" >0</td>\n",
       "            </tr>\n",
       "            <tr>\n",
       "                        <th id=\"T_0171aaa4_5bdd_11ea_8ee8_6158acca0925level0_row4\" class=\"row_heading level0 row4\" >4</th>\n",
       "                        <td id=\"T_0171aaa4_5bdd_11ea_8ee8_6158acca0925row4_col0\" class=\"data row4 col0\" >0</td>\n",
       "                        <td id=\"T_0171aaa4_5bdd_11ea_8ee8_6158acca0925row4_col1\" class=\"data row4 col1\" >0</td>\n",
       "                        <td id=\"T_0171aaa4_5bdd_11ea_8ee8_6158acca0925row4_col2\" class=\"data row4 col2\" >1</td>\n",
       "                        <td id=\"T_0171aaa4_5bdd_11ea_8ee8_6158acca0925row4_col3\" class=\"data row4 col3\" >1</td>\n",
       "                        <td id=\"T_0171aaa4_5bdd_11ea_8ee8_6158acca0925row4_col4\" class=\"data row4 col4\" >0</td>\n",
       "            </tr>\n",
       "    </tbody></table>"
      ],
      "text/plain": [
       "<pandas.io.formats.style.Styler at 0x7fbc6cc59898>"
      ]
     },
     "metadata": {},
     "output_type": "display_data"
    },
    {
     "data": {
      "text/html": [
       "<style  type=\"text/css\" >\n",
       "    #T_01731d9e_5bdd_11ea_8ee8_6158acca0925row2_col2 {\n",
       "            background-color:  yellow;\n",
       "        }    #T_01731d9e_5bdd_11ea_8ee8_6158acca0925row2_col3 {\n",
       "            background-color:  yellow;\n",
       "        }</style><table id=\"T_01731d9e_5bdd_11ea_8ee8_6158acca0925\" ><thead>    <tr>        <th class=\"blank level0\" ></th>        <th class=\"col_heading level0 col0\" >0</th>        <th class=\"col_heading level0 col1\" >1</th>        <th class=\"col_heading level0 col2\" >2</th>        <th class=\"col_heading level0 col3\" >3</th>        <th class=\"col_heading level0 col4\" >4</th>    </tr></thead><tbody>\n",
       "                <tr>\n",
       "                        <th id=\"T_01731d9e_5bdd_11ea_8ee8_6158acca0925level0_row0\" class=\"row_heading level0 row0\" >0</th>\n",
       "                        <td id=\"T_01731d9e_5bdd_11ea_8ee8_6158acca0925row0_col0\" class=\"data row0 col0\" >0</td>\n",
       "                        <td id=\"T_01731d9e_5bdd_11ea_8ee8_6158acca0925row0_col1\" class=\"data row0 col1\" >1</td>\n",
       "                        <td id=\"T_01731d9e_5bdd_11ea_8ee8_6158acca0925row0_col2\" class=\"data row0 col2\" >1</td>\n",
       "                        <td id=\"T_01731d9e_5bdd_11ea_8ee8_6158acca0925row0_col3\" class=\"data row0 col3\" >0</td>\n",
       "                        <td id=\"T_01731d9e_5bdd_11ea_8ee8_6158acca0925row0_col4\" class=\"data row0 col4\" >1</td>\n",
       "            </tr>\n",
       "            <tr>\n",
       "                        <th id=\"T_01731d9e_5bdd_11ea_8ee8_6158acca0925level0_row1\" class=\"row_heading level0 row1\" >1</th>\n",
       "                        <td id=\"T_01731d9e_5bdd_11ea_8ee8_6158acca0925row1_col0\" class=\"data row1 col0\" >0</td>\n",
       "                        <td id=\"T_01731d9e_5bdd_11ea_8ee8_6158acca0925row1_col1\" class=\"data row1 col1\" >0</td>\n",
       "                        <td id=\"T_01731d9e_5bdd_11ea_8ee8_6158acca0925row1_col2\" class=\"data row1 col2\" >0</td>\n",
       "                        <td id=\"T_01731d9e_5bdd_11ea_8ee8_6158acca0925row1_col3\" class=\"data row1 col3\" >1</td>\n",
       "                        <td id=\"T_01731d9e_5bdd_11ea_8ee8_6158acca0925row1_col4\" class=\"data row1 col4\" >1</td>\n",
       "            </tr>\n",
       "            <tr>\n",
       "                        <th id=\"T_01731d9e_5bdd_11ea_8ee8_6158acca0925level0_row2\" class=\"row_heading level0 row2\" >2</th>\n",
       "                        <td id=\"T_01731d9e_5bdd_11ea_8ee8_6158acca0925row2_col0\" class=\"data row2 col0\" >0</td>\n",
       "                        <td id=\"T_01731d9e_5bdd_11ea_8ee8_6158acca0925row2_col1\" class=\"data row2 col1\" >0</td>\n",
       "                        <td id=\"T_01731d9e_5bdd_11ea_8ee8_6158acca0925row2_col2\" class=\"data row2 col2\" >0</td>\n",
       "                        <td id=\"T_01731d9e_5bdd_11ea_8ee8_6158acca0925row2_col3\" class=\"data row2 col3\" >0</td>\n",
       "                        <td id=\"T_01731d9e_5bdd_11ea_8ee8_6158acca0925row2_col4\" class=\"data row2 col4\" >1</td>\n",
       "            </tr>\n",
       "            <tr>\n",
       "                        <th id=\"T_01731d9e_5bdd_11ea_8ee8_6158acca0925level0_row3\" class=\"row_heading level0 row3\" >3</th>\n",
       "                        <td id=\"T_01731d9e_5bdd_11ea_8ee8_6158acca0925row3_col0\" class=\"data row3 col0\" >0</td>\n",
       "                        <td id=\"T_01731d9e_5bdd_11ea_8ee8_6158acca0925row3_col1\" class=\"data row3 col1\" >0</td>\n",
       "                        <td id=\"T_01731d9e_5bdd_11ea_8ee8_6158acca0925row3_col2\" class=\"data row3 col2\" >0</td>\n",
       "                        <td id=\"T_01731d9e_5bdd_11ea_8ee8_6158acca0925row3_col3\" class=\"data row3 col3\" >0</td>\n",
       "                        <td id=\"T_01731d9e_5bdd_11ea_8ee8_6158acca0925row3_col4\" class=\"data row3 col4\" >0</td>\n",
       "            </tr>\n",
       "            <tr>\n",
       "                        <th id=\"T_01731d9e_5bdd_11ea_8ee8_6158acca0925level0_row4\" class=\"row_heading level0 row4\" >4</th>\n",
       "                        <td id=\"T_01731d9e_5bdd_11ea_8ee8_6158acca0925row4_col0\" class=\"data row4 col0\" >0</td>\n",
       "                        <td id=\"T_01731d9e_5bdd_11ea_8ee8_6158acca0925row4_col1\" class=\"data row4 col1\" >0</td>\n",
       "                        <td id=\"T_01731d9e_5bdd_11ea_8ee8_6158acca0925row4_col2\" class=\"data row4 col2\" >1</td>\n",
       "                        <td id=\"T_01731d9e_5bdd_11ea_8ee8_6158acca0925row4_col3\" class=\"data row4 col3\" >1</td>\n",
       "                        <td id=\"T_01731d9e_5bdd_11ea_8ee8_6158acca0925row4_col4\" class=\"data row4 col4\" >0</td>\n",
       "            </tr>\n",
       "    </tbody></table>"
      ],
      "text/plain": [
       "<pandas.io.formats.style.Styler at 0x7fbc6cc59908>"
      ]
     },
     "metadata": {},
     "output_type": "display_data"
    }
   ],
   "source": [
    "display(orbi.proj(2,[2,3]))\n",
    "display(orbi.proj(2,[2,3]))"
   ]
  },
  {
   "cell_type": "code",
   "execution_count": 50,
   "metadata": {},
   "outputs": [
    {
     "name": "stdout",
     "output_type": "stream",
     "text": [
      "[[1 1]\n",
      " [1 1]\n",
      " [1 0]]\n",
      "(3, 2)\n",
      "[[1 0]\n",
      " [1 1]] [2 0] [1 1 0] [1 2]\n"
     ]
    },
    {
     "data": {
      "text/plain": [
       "array([0.5, 1. ])"
      ]
     },
     "execution_count": 50,
     "metadata": {},
     "output_type": "execute_result"
    }
   ],
   "source": [
    "print(np.array([[1,1],[1,1],[1,0]]))\n",
    "print(np.array([[1,1],[1,1],[1,0]]).shape)\n",
    "\n",
    "a1,a2,a3,a4 = np.unique([[1,1],[1,1],[1,0]],axis=0,return_index=1, return_inverse=1,return_counts=1)\n",
    "print(a1,a2,a3,a4)\n",
    "np.sum(a1,axis=1)/a1.shape[1]\n"
   ]
  },
  {
   "cell_type": "code",
   "execution_count": null,
   "metadata": {},
   "outputs": [],
   "source": []
  },
  {
   "cell_type": "code",
   "execution_count": 27,
   "metadata": {},
   "outputs": [
    {
     "data": {
      "text/plain": [
       "array([[1, 1],\n",
       "       [0, 0],\n",
       "       [0, 1],\n",
       "       [0, 0],\n",
       "       [0, 0]])"
      ]
     },
     "execution_count": 27,
     "metadata": {},
     "output_type": "execute_result"
    }
   ],
   "source": [
    "mat[:,[2,3]]"
   ]
  },
  {
   "cell_type": "code",
   "execution_count": 41,
   "metadata": {},
   "outputs": [
    {
     "data": {
      "text/plain": [
       "1.25"
      ]
     },
     "execution_count": 41,
     "metadata": {},
     "output_type": "execute_result"
    }
   ],
   "source": [
    "a = np.array([1,2])\n",
    "np.sum( np.square(a/2))"
   ]
  },
  {
   "cell_type": "code",
   "execution_count": 42,
   "metadata": {},
   "outputs": [
    {
     "data": {
      "text/plain": [
       "5"
      ]
     },
     "execution_count": 42,
     "metadata": {},
     "output_type": "execute_result"
    }
   ],
   "source": [
    "np.dot(a,a)"
   ]
  },
  {
   "cell_type": "code",
   "execution_count": 63,
   "metadata": {},
   "outputs": [
    {
     "data": {
      "text/html": [
       "<div>\n",
       "<style scoped>\n",
       "    .dataframe tbody tr th:only-of-type {\n",
       "        vertical-align: middle;\n",
       "    }\n",
       "\n",
       "    .dataframe tbody tr th {\n",
       "        vertical-align: top;\n",
       "    }\n",
       "\n",
       "    .dataframe thead tr th {\n",
       "        text-align: left;\n",
       "    }\n",
       "</style>\n",
       "<table border=\"1\" class=\"dataframe\">\n",
       "  <thead>\n",
       "    <tr>\n",
       "      <th></th>\n",
       "      <th>1</th>\n",
       "      <th>2</th>\n",
       "      <th>3</th>\n",
       "      <th>4</th>\n",
       "      <th>5</th>\n",
       "    </tr>\n",
       "    <tr>\n",
       "      <th></th>\n",
       "      <th>5</th>\n",
       "      <th>4</th>\n",
       "      <th>3</th>\n",
       "      <th>2</th>\n",
       "      <th>1</th>\n",
       "    </tr>\n",
       "  </thead>\n",
       "  <tbody>\n",
       "    <tr>\n",
       "      <th>0</th>\n",
       "      <td>0</td>\n",
       "      <td>0</td>\n",
       "      <td>1</td>\n",
       "      <td>1</td>\n",
       "      <td>1</td>\n",
       "    </tr>\n",
       "    <tr>\n",
       "      <th>1</th>\n",
       "      <td>0</td>\n",
       "      <td>0</td>\n",
       "      <td>0</td>\n",
       "      <td>0</td>\n",
       "      <td>1</td>\n",
       "    </tr>\n",
       "    <tr>\n",
       "      <th>2</th>\n",
       "      <td>0</td>\n",
       "      <td>1</td>\n",
       "      <td>1</td>\n",
       "      <td>0</td>\n",
       "      <td>1</td>\n",
       "    </tr>\n",
       "    <tr>\n",
       "      <th>3</th>\n",
       "      <td>1</td>\n",
       "      <td>1</td>\n",
       "      <td>0</td>\n",
       "      <td>1</td>\n",
       "      <td>1</td>\n",
       "    </tr>\n",
       "    <tr>\n",
       "      <th>4</th>\n",
       "      <td>0</td>\n",
       "      <td>0</td>\n",
       "      <td>0</td>\n",
       "      <td>1</td>\n",
       "      <td>1</td>\n",
       "    </tr>\n",
       "  </tbody>\n",
       "</table>\n",
       "</div>"
      ],
      "text/plain": [
       "   1  2  3  4  5\n",
       "   5  4  3  2  1\n",
       "0  0  0  1  1  1\n",
       "1  0  0  0  0  1\n",
       "2  0  1  1  0  1\n",
       "3  1  1  0  1  1\n",
       "4  0  0  0  1  1"
      ]
     },
     "execution_count": 63,
     "metadata": {},
     "output_type": "execute_result"
    }
   ],
   "source": [
    "pd.DataFrame(mat,columns=[[1,2,3,4,5],[5,4,3,2,1]])"
   ]
  },
  {
   "cell_type": "code",
   "execution_count": 97,
   "metadata": {},
   "outputs": [
    {
     "data": {
      "text/plain": [
       "array([4, 1])"
      ]
     },
     "execution_count": 97,
     "metadata": {},
     "output_type": "execute_result"
    }
   ],
   "source": [
    "np.power(2,a2)"
   ]
  },
  {
   "cell_type": "code",
   "execution_count": null,
   "metadata": {},
   "outputs": [],
   "source": []
  }
 ],
 "metadata": {
  "kernelspec": {
   "display_name": "Python 3",
   "language": "python",
   "name": "python3"
  },
  "language_info": {
   "codemirror_mode": {
    "name": "ipython",
    "version": 3
   },
   "file_extension": ".py",
   "mimetype": "text/x-python",
   "name": "python",
   "nbconvert_exporter": "python",
   "pygments_lexer": "ipython3",
   "version": "3.7.3"
  }
 },
 "nbformat": 4,
 "nbformat_minor": 2
}
